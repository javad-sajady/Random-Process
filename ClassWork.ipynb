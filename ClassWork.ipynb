{
 "cells": [
  {
   "cell_type": "code",
   "execution_count": 1,
   "metadata": {},
   "outputs": [],
   "source": [
    "import numpy as np\n",
    "import matplotlib.pyplot as plt"
   ]
  },
  {
   "cell_type": "markdown",
   "metadata": {},
   "source": [
    "### geometric distribution I"
   ]
  },
  {
   "cell_type": "markdown",
   "metadata": {},
   "source": [
    "with parameter $$p$$ and $$1-p$$ when will it reach the limmite"
   ]
  },
  {
   "cell_type": "code",
   "execution_count": 2,
   "metadata": {},
   "outputs": [
    {
     "name": "stdout",
     "output_type": "stream",
     "text": [
      "0.24 0.4 2\n",
      "0.144 0.64 3\n",
      "0.08639999999999999 0.784 4\n",
      "0.05183999999999999 0.8704000000000001 5\n"
     ]
    }
   ],
   "source": [
    "u=0.8\n",
    "s=0.4\n",
    "q=1-s\n",
    "i=1\n",
    "t=0\n",
    "\n",
    "while(u>t):\n",
    "    t+=s\n",
    "    s*=q\n",
    "    i+=1\n",
    "    print(s,t,i)"
   ]
  },
  {
   "cell_type": "code",
   "execution_count": 3,
   "metadata": {},
   "outputs": [],
   "source": [
    "u=0.8\n",
    "p=0.1\n",
    "s=p\n",
    "data=np.zeros((220))\n",
    "data[0]=0\n",
    "for i in range(220):\n",
    "    data[i]=data[i-1]+s\n",
    "    s*=(1-p)"
   ]
  },
  {
   "cell_type": "code",
   "execution_count": 4,
   "metadata": {},
   "outputs": [
    {
     "data": {
      "text/plain": [
       "<matplotlib.collections.PathCollection at 0x7f66ef9db4c0>"
      ]
     },
     "execution_count": 4,
     "metadata": {},
     "output_type": "execute_result"
    },
    {
     "data": {
      "image/png": "[encoded data removed]",
      "text/plain": [
       "<Figure size 432x288 with 1 Axes>"
      ]
     },
     "metadata": {
      "needs_background": "light"
     },
     "output_type": "display_data"
    }
   ],
   "source": [
    "plt.scatter([i for i in range(220)],data)"
   ]
  },
  {
   "cell_type": "markdown",
   "metadata": {},
   "source": [
    "to predict how long should we go to find the answer of a geometry distribution"
   ]
  },
  {
   "cell_type": "code",
   "execution_count": 5,
   "metadata": {},
   "outputs": [
    {
     "data": {
      "text/plain": [
       "22"
      ]
     },
     "execution_count": 5,
     "metadata": {},
     "output_type": "execute_result"
    }
   ],
   "source": [
    "U=0.9\n",
    "q=0.9\n",
    "int(np.ceil(np.log(1-U)/np.log(q)))"
   ]
  },
  {
   "cell_type": "markdown",
   "metadata": {},
   "source": [
    "### grouping randoms"
   ]
  },
  {
   "cell_type": "markdown",
   "metadata": {},
   "source": [
    "in here we just assume that we just group the data in two group with a p probablity than get it in to a random between 0,1"
   ]
  },
  {
   "cell_type": "code",
   "execution_count": 6,
   "metadata": {},
   "outputs": [
    {
     "data": {
      "image/png": "[encoded data removed]",
      "text/plain": [
       "<Figure size 432x288 with 1 Axes>"
      ]
     },
     "metadata": {
      "needs_background": "light"
     },
     "output_type": "display_data"
    }
   ],
   "source": [
    "p=0.0001\n",
    "k=np.zeros((50))\n",
    "for i in range(50):\n",
    "    a = np.random.rand((1))\n",
    "    if(a<p):\n",
    "        k[i]=a/p\n",
    "    else:\n",
    "        k[i]=(a-p)/(1-p)\n",
    "plt.hist(k,bins= 150)\n",
    "plt.show()"
   ]
  },
  {
   "cell_type": "markdown",
   "metadata": {},
   "source": [
    "### Poisson"
   ]
  },
  {
   "cell_type": "markdown",
   "metadata": {},
   "source": [
    "make a uniform variable u than make $$p_{0}+p_{1}+p_{2}+... $$ to first u that is bigger than u"
   ]
  },
  {
   "cell_type": "code",
   "execution_count": 7,
   "metadata": {},
   "outputs": [
    {
     "name": "stdout",
     "output_type": "stream",
     "text": [
      "1 poasion value 4.588534807527391e-06 total 3.0590232050182605e-07\n",
      "2 poasion value 3.441401105645543e-05 total 4.894437128029217e-06\n",
      "3 poasion value 0.00017207005528227715 total 3.930844818448465e-05\n",
      "4 poasion value 0.0006452627073085393 total 0.0002113785034667618\n",
      "5 poasion value 0.001935788121925618 total 0.0008566412107753011\n",
      "6 poasion value 0.004839470304814045 total 0.002792429332700919\n",
      "7 poasion value 0.01037029351031581 total 0.007631899637514964\n",
      "8 poasion value 0.019444300331842142 total 0.018002193147830775\n",
      "9 poasion value 0.0324071672197369 total 0.03744649347967292\n",
      "10 poasion value 0.04861075082960536 total 0.06985366069940982\n",
      "11 poasion value 0.0662873874949164 total 0.11846441152901518\n",
      "12 poasion value 0.08285923436864549 total 0.18475179902393157\n",
      "13 poasion value 0.09560680888689864 total 0.2676110333925771\n",
      "14 poasion value 0.10243586666453426 total 0.36321784227947573\n",
      "15 poasion value 0.10243586666453426 total 0.46565370894401\n",
      "16 poasion value 0.09603362499800087 total 0.5680895756085442\n",
      "17 poasion value 0.0847355514688243 total 0.6641232006065451\n",
      "18 poasion value 0.0706129595573536 total 0.7488587520753693\n",
      "19 poasion value 0.055747073334752845 total 0.8194717116327229\n",
      "20 poasion value 0.041810305001064633 total 0.8752187849674757\n",
      "21 poasion value 0.029864503572189026 total 0.9170290899685404\n",
      "22 poasion value 0.02036216152649252 total 0.9468935935407294\n",
      "23 poasion value 0.01327967056075599 total 0.967255755067222\n",
      "24 poasion value 0.008299794100472494 total 0.9805354256279779\n",
      "25 poasion value 0.0049798764602834965 total 0.9888352197284505\n",
      "26 poasion value 0.0028730056501635555 total 0.993815096188734\n",
      "27 poasion value 0.001596114250090864 total 0.9966881018388976\n",
      "28 poasion value 0.00085506120540582 total 0.9982842160889884\n",
      "29 poasion value 0.0004422730372788724 total 0.9991392772943942\n"
     ]
    }
   ],
   "source": [
    "sum=0\n",
    "u=np.random.random()\n",
    "lambda__=15\n",
    "p=np.power(np.e,-lambda__)\n",
    "for i in range(1,30):\n",
    "    sum+=p\n",
    "    p/=(i/lambda__)\n",
    "    print(i,\"poasion value\",p,\"total\",sum)"
   ]
  },
  {
   "cell_type": "markdown",
   "metadata": {},
   "source": [
    "find value in poisson variables for a sepecific number"
   ]
  },
  {
   "cell_type": "code",
   "execution_count": 8,
   "metadata": {},
   "outputs": [],
   "source": [
    "lambda_=40\n",
    "a=np.zeros((40*10))\n",
    "a[0]=np.power(np.e,-lambda_)\n",
    "p=a[0]\n",
    "for i in range(1,40*10):\n",
    "    a[i]=a[i-1]+(p)\n",
    "    p/=(i/lambda_)"
   ]
  },
  {
   "cell_type": "markdown",
   "metadata": {},
   "source": [
    "it's hard to go on aloop with a big lambda so we can calculate the $$ S_{n}=\\sum_{i=0}^{n} p_{i}$$"
   ]
  },
  {
   "cell_type": "code",
   "execution_count": 9,
   "metadata": {},
   "outputs": [
    {
     "data": {
      "text/plain": [
       "<matplotlib.collections.PathCollection at 0x7f66ed9166a0>"
      ]
     },
     "execution_count": 9,
     "metadata": {},
     "output_type": "execute_result"
    },
    {
     "data": {
      "image/png": "[encoded data removed]",
      "text/plain": [
       "<Figure size 432x288 with 1 Axes>"
      ]
     },
     "metadata": {
      "needs_background": "light"
     },
     "output_type": "display_data"
    }
   ],
   "source": [
    "plt.scatter([i for i in range(40*10)],np.log(a))\n",
    "plt.scatter([40],np.log(a[39]))"
   ]
  },
  {
   "cell_type": "code",
   "execution_count": 10,
   "metadata": {},
   "outputs": [
    {
     "data": {
      "text/plain": [
       "1.0000000000000018"
      ]
     },
     "execution_count": 10,
     "metadata": {},
     "output_type": "execute_result"
    }
   ],
   "source": [
    "a[-1]"
   ]
  },
  {
   "cell_type": "markdown",
   "metadata": {},
   "source": [
    "out of computer caluculation"
   ]
  },
  {
   "cell_type": "code",
   "execution_count": 11,
   "metadata": {},
   "outputs": [
    {
     "data": {
      "text/plain": [
       "103"
      ]
     },
     "execution_count": 11,
     "metadata": {},
     "output_type": "execute_result"
    }
   ],
   "source": [
    "40*10-np.array(a[a==a[-1]]).shape[0]"
   ]
  },
  {
   "cell_type": "code",
   "execution_count": 12,
   "metadata": {},
   "outputs": [
    {
     "data": {
      "text/plain": [
       "1.0000000000000018"
      ]
     },
     "execution_count": 12,
     "metadata": {},
     "output_type": "execute_result"
    }
   ],
   "source": [
    "a[300]"
   ]
  },
  {
   "cell_type": "markdown",
   "metadata": {},
   "source": [
    "it's obvies that we can start search from lambda and move forward or backward o find good model"
   ]
  },
  {
   "cell_type": "markdown",
   "metadata": {},
   "source": [
    "### Acceptance-Rejection"
   ]
  },
  {
   "cell_type": "markdown",
   "metadata": {},
   "source": [
    "we just uniformlu make a probablity of every search that if the random variable in the p[i] range is or not"
   ]
  },
  {
   "cell_type": "markdown",
   "metadata": {},
   "source": [
    "p~q distribution we generate in q than with probability pi/cqi we accept the sample "
   ]
  },
  {
   "cell_type": "code",
   "execution_count": 13,
   "metadata": {},
   "outputs": [],
   "source": [
    "n=1000\n",
    "s=np.zeros((n))\n",
    "p=np.zeros(5)\n",
    "p[0]=0.21\n",
    "p[1]=0.22\n",
    "p[2]=0.19\n",
    "p[3]=0.18\n",
    "p[4]=0.2"
   ]
  },
  {
   "cell_type": "code",
   "execution_count": 14,
   "metadata": {},
   "outputs": [],
   "source": [
    "c=p.max()/(1/5)\n",
    "for i in range(n):\n",
    "    b=True\n",
    "    while(b):\n",
    "        a=np.random.randint(5)\n",
    "        d=np.random.random()\n",
    "        if(d<(p[a]/c)):\n",
    "            b=False\n",
    "            s[i]=a+1"
   ]
  },
  {
   "cell_type": "code",
   "execution_count": 15,
   "metadata": {},
   "outputs": [
    {
     "data": {
      "text/plain": [
       "(array([191.,   0., 245.,   0.,   0., 197.,   0., 184.,   0., 183.]),\n",
       " array([1. , 1.4, 1.8, 2.2, 2.6, 3. , 3.4, 3.8, 4.2, 4.6, 5. ]),\n",
       " <BarContainer object of 10 artists>)"
      ]
     },
     "execution_count": 15,
     "metadata": {},
     "output_type": "execute_result"
    },
    {
     "data": {
      "image/png": "[encoded data removed]",
      "text/plain": [
       "<Figure size 432x288 with 1 Axes>"
      ]
     },
     "metadata": {
      "needs_background": "light"
     },
     "output_type": "display_data"
    }
   ],
   "source": [
    "plt.hist(s)"
   ]
  },
  {
   "cell_type": "code",
   "execution_count": 16,
   "metadata": {},
   "outputs": [
    {
     "name": "stdout",
     "output_type": "stream",
     "text": [
      "the number of  1  is 0.191 persent and we expect 0.21\n",
      "the number of  2  is 0.245 persent and we expect 0.22\n",
      "the number of  3  is 0.197 persent and we expect 0.19\n",
      "the number of  4  is 0.184 persent and we expect 0.18\n",
      "the number of  5  is 0.183 persent and we expect 0.2\n"
     ]
    }
   ],
   "source": [
    "for i in range(1,6):\n",
    "    print(\"the number of \" ,i,\" is\" ,np.array(s[s==i]).shape[0]/n,\"persent and we expect\",p[i-1])"
   ]
  },
  {
   "cell_type": "markdown",
   "metadata": {},
   "source": [
    "### Composition and Alias method"
   ]
  },
  {
   "cell_type": "markdown",
   "metadata": {},
   "source": [
    "it is a method for the make random variable in the range of p with p probabliry but we know that makeing decition betwin two variable is easy so we make them in to p size group on probablity with the chois betwean two variable"
   ]
  },
  {
   "cell_type": "code",
   "execution_count": 17,
   "metadata": {},
   "outputs": [],
   "source": [
    "p=np.random.rand((100))\n",
    "p=p/p.sum()"
   ]
  },
  {
   "cell_type": "code",
   "execution_count": 18,
   "metadata": {},
   "outputs": [],
   "source": [
    "new_p=p*10000"
   ]
  },
  {
   "cell_type": "code",
   "execution_count": 19,
   "metadata": {},
   "outputs": [],
   "source": [
    "q=np.zeros((99*2),dtype='int')\n",
    "alpha=np.zeros((99))"
   ]
  },
  {
   "cell_type": "markdown",
   "metadata": {},
   "source": [
    "here we make them in to groups"
   ]
  },
  {
   "cell_type": "code",
   "execution_count": 20,
   "metadata": {},
   "outputs": [],
   "source": [
    "for i in range(99):\n",
    "    minimom=1\n",
    "    maximom=0\n",
    "    for j in range(100):\n",
    "        if(p[j]<minimom and p[j]!=0):\n",
    "            a=j\n",
    "            minimom=p[j]\n",
    "        if(p[j]>maximom):\n",
    "            b=j\n",
    "            maximom=p[j]\n",
    "    \n",
    "    q[2*i]=a\n",
    "    q[2*i+1]=b\n",
    "    alpha[i]=p[p!=0].min()*99\n",
    "    p[a]=0\n",
    "    p[b]-=(1-alpha[i])/99"
   ]
  },
  {
   "cell_type": "markdown",
   "metadata": {},
   "source": [
    "and here we make predictions"
   ]
  },
  {
   "cell_type": "code",
   "execution_count": 21,
   "metadata": {},
   "outputs": [],
   "source": [
    "s=np.zeros((10000))\n",
    "for i in range(10000):\n",
    "    a=int(np.random.random()*99)\n",
    "    b=np.random.random()\n",
    "    if(alpha[a]<b):\n",
    "        s[i]=q[2*a]\n",
    "    else:\n",
    "        s[i]=q[2*a+1]"
   ]
  },
  {
   "cell_type": "code",
   "execution_count": 22,
   "metadata": {},
   "outputs": [
    {
     "data": {
      "text/plain": [
       "<BarContainer object of 100 artists>"
      ]
     },
     "execution_count": 22,
     "metadata": {},
     "output_type": "execute_result"
    },
    {
     "data": {
      "image/png": "[encoded data removed]",
      "text/plain": [
       "<Figure size 432x288 with 1 Axes>"
      ]
     },
     "metadata": {
      "needs_background": "light"
     },
     "output_type": "display_data"
    }
   ],
   "source": [
    "plt.hist(s,bins=100,color='black')\n",
    "plt.bar([i for i in range(100)],new_p)"
   ]
  },
  {
   "cell_type": "markdown",
   "metadata": {},
   "source": [
    "### Multinomial"
   ]
  },
  {
   "cell_type": "markdown",
   "metadata": {},
   "source": [
    "we apply a n samlple of a process with probablility $$ p_{1},...p_{r}$$ with result $$1,...r $$"
   ]
  },
  {
   "cell_type": "markdown",
   "metadata": {},
   "source": [
    "so we use for on r vaibel that we get ni of result i with binery $$ (n-\\sum_{j=0 }^{i-1} n_{j},\\frac{p_{i}}{1-\\sum_{j=0}^{i-1} p_{j} } )$$"
   ]
  },
  {
   "cell_type": "code",
   "execution_count": 23,
   "metadata": {},
   "outputs": [],
   "source": [
    "import numpy as np\n",
    "import matplotlib.pyplot as plt"
   ]
  },
  {
   "cell_type": "code",
   "execution_count": 24,
   "metadata": {},
   "outputs": [],
   "source": [
    "def binery(n,p):\n",
    "    t=0\n",
    "    for i in range(n):\n",
    "        if(np.random.random()<p):\n",
    "            t+=1\n",
    "    return t"
   ]
  },
  {
   "cell_type": "code",
   "execution_count": 25,
   "metadata": {},
   "outputs": [],
   "source": [
    "def result(r,n):\n",
    "    k=1;\n",
    "    p=np.ones((r))\n",
    "    p/=r\n",
    "    for i in range(r):\n",
    "        dic[i]=binery(n,p[i]/k)\n",
    "        k-=p[i]\n",
    "        n-=dic[i]"
   ]
  },
  {
   "cell_type": "code",
   "execution_count": 26,
   "metadata": {},
   "outputs": [],
   "source": [
    "r=1000\n",
    "n=100"
   ]
  },
  {
   "cell_type": "code",
   "execution_count": 27,
   "metadata": {},
   "outputs": [],
   "source": [
    "dic={}\n",
    "result(r,n)"
   ]
  },
  {
   "cell_type": "code",
   "execution_count": 28,
   "metadata": {},
   "outputs": [
    {
     "data": {
      "image/png": "[encoded data removed]",
      "text/plain": [
       "<Figure size 432x288 with 1 Axes>"
      ]
     },
     "metadata": {
      "needs_background": "light"
     },
     "output_type": "display_data"
    }
   ],
   "source": [
    "plt.bar([i for i in range(r)],dic.values())\n",
    "plt.show()"
   ]
  },
  {
   "cell_type": "code",
   "execution_count": 29,
   "metadata": {},
   "outputs": [],
   "source": [
    "n=1000\n",
    "r=100"
   ]
  },
  {
   "cell_type": "code",
   "execution_count": 30,
   "metadata": {},
   "outputs": [],
   "source": [
    "dic={}\n",
    "result(r,n)"
   ]
  },
  {
   "cell_type": "code",
   "execution_count": 31,
   "metadata": {},
   "outputs": [
    {
     "data": {
      "image/png": "[encoded data removed]",
      "text/plain": [
       "<Figure size 432x288 with 1 Axes>"
      ]
     },
     "metadata": {
      "needs_background": "light"
     },
     "output_type": "display_data"
    }
   ],
   "source": [
    "plt.bar([i for i in range(r)],dic.values())\n",
    "plt.show()"
   ]
  },
  {
   "cell_type": "markdown",
   "metadata": {},
   "source": [
    "### Continous RV-inverse function"
   ]
  },
  {
   "cell_type": "code",
   "execution_count": 32,
   "metadata": {},
   "outputs": [],
   "source": [
    "import numpy as np\n",
    "import matplotlib.pyplot as plt"
   ]
  },
  {
   "cell_type": "code",
   "execution_count": 33,
   "metadata": {},
   "outputs": [],
   "source": [
    "def exp(lamabda):\n",
    "    return -np.log2(np.random.random())/lamabda"
   ]
  },
  {
   "cell_type": "code",
   "execution_count": 34,
   "metadata": {},
   "outputs": [],
   "source": [
    "lmbda=20"
   ]
  },
  {
   "cell_type": "code",
   "execution_count": 35,
   "metadata": {},
   "outputs": [],
   "source": [
    "A=np.zeros((10000))\n",
    "for i in range(A.shape[0]):\n",
    "    A[i]=exp(lmbda)"
   ]
  },
  {
   "cell_type": "code",
   "execution_count": 36,
   "metadata": {},
   "outputs": [
    {
     "data": {
      "text/plain": [
       "(array([1.059e+03, 9.860e+02, 8.960e+02, 7.480e+02, 6.710e+02, 6.040e+02,\n",
       "        5.430e+02, 4.920e+02, 4.380e+02, 3.880e+02, 3.250e+02, 3.020e+02,\n",
       "        2.860e+02, 2.450e+02, 2.330e+02, 1.740e+02, 1.670e+02, 1.460e+02,\n",
       "        1.140e+02, 1.220e+02, 1.210e+02, 1.020e+02, 8.000e+01, 8.300e+01,\n",
       "        8.000e+01, 5.300e+01, 4.500e+01, 6.600e+01, 4.000e+01, 4.000e+01,\n",
       "        3.800e+01, 3.100e+01, 3.800e+01, 2.700e+01, 2.800e+01, 2.100e+01,\n",
       "        2.400e+01, 2.500e+01, 1.100e+01, 1.400e+01, 9.000e+00, 9.000e+00,\n",
       "        6.000e+00, 9.000e+00, 3.000e+00, 5.000e+00, 5.000e+00, 2.000e+00,\n",
       "        7.000e+00, 6.000e+00, 4.000e+00, 5.000e+00, 2.000e+00, 0.000e+00,\n",
       "        4.000e+00, 1.000e+00, 2.000e+00, 0.000e+00, 4.000e+00, 2.000e+00,\n",
       "        2.000e+00, 0.000e+00, 0.000e+00, 1.000e+00, 2.000e+00, 0.000e+00,\n",
       "        0.000e+00, 1.000e+00, 0.000e+00, 0.000e+00, 0.000e+00, 0.000e+00,\n",
       "        0.000e+00, 1.000e+00, 0.000e+00, 0.000e+00, 0.000e+00, 0.000e+00,\n",
       "        0.000e+00, 0.000e+00, 0.000e+00, 0.000e+00, 0.000e+00, 0.000e+00,\n",
       "        1.000e+00, 0.000e+00, 0.000e+00, 0.000e+00, 0.000e+00, 0.000e+00,\n",
       "        0.000e+00, 0.000e+00, 0.000e+00, 0.000e+00, 0.000e+00, 0.000e+00,\n",
       "        0.000e+00, 0.000e+00, 0.000e+00, 1.000e+00]),\n",
       " array([1.59073961e-05, 8.22631909e-03, 1.64367308e-02, 2.46471425e-02,\n",
       "        3.28575542e-02, 4.10679659e-02, 4.92783776e-02, 5.74887893e-02,\n",
       "        6.56992010e-02, 7.39096127e-02, 8.21200244e-02, 9.03304361e-02,\n",
       "        9.85408478e-02, 1.06751259e-01, 1.14961671e-01, 1.23172083e-01,\n",
       "        1.31382495e-01, 1.39592906e-01, 1.47803318e-01, 1.56013730e-01,\n",
       "        1.64224141e-01, 1.72434553e-01, 1.80644965e-01, 1.88855376e-01,\n",
       "        1.97065788e-01, 2.05276200e-01, 2.13486612e-01, 2.21697023e-01,\n",
       "        2.29907435e-01, 2.38117847e-01, 2.46328258e-01, 2.54538670e-01,\n",
       "        2.62749082e-01, 2.70959493e-01, 2.79169905e-01, 2.87380317e-01,\n",
       "        2.95590729e-01, 3.03801140e-01, 3.12011552e-01, 3.20221964e-01,\n",
       "        3.28432375e-01, 3.36642787e-01, 3.44853199e-01, 3.53063610e-01,\n",
       "        3.61274022e-01, 3.69484434e-01, 3.77694845e-01, 3.85905257e-01,\n",
       "        3.94115669e-01, 4.02326081e-01, 4.10536492e-01, 4.18746904e-01,\n",
       "        4.26957316e-01, 4.35167727e-01, 4.43378139e-01, 4.51588551e-01,\n",
       "        4.59798962e-01, 4.68009374e-01, 4.76219786e-01, 4.84430198e-01,\n",
       "        4.92640609e-01, 5.00851021e-01, 5.09061433e-01, 5.17271844e-01,\n",
       "        5.25482256e-01, 5.33692668e-01, 5.41903079e-01, 5.50113491e-01,\n",
       "        5.58323903e-01, 5.66534315e-01, 5.74744726e-01, 5.82955138e-01,\n",
       "        5.91165550e-01, 5.99375961e-01, 6.07586373e-01, 6.15796785e-01,\n",
       "        6.24007196e-01, 6.32217608e-01, 6.40428020e-01, 6.48638431e-01,\n",
       "        6.56848843e-01, 6.65059255e-01, 6.73269667e-01, 6.81480078e-01,\n",
       "        6.89690490e-01, 6.97900902e-01, 7.06111313e-01, 7.14321725e-01,\n",
       "        7.22532137e-01, 7.30742548e-01, 7.38952960e-01, 7.47163372e-01,\n",
       "        7.55373784e-01, 7.63584195e-01, 7.71794607e-01, 7.80005019e-01,\n",
       "        7.88215430e-01, 7.96425842e-01, 8.04636254e-01, 8.12846665e-01,\n",
       "        8.21057077e-01]),\n",
       " <BarContainer object of 100 artists>)"
      ]
     },
     "execution_count": 36,
     "metadata": {},
     "output_type": "execute_result"
    },
    {
     "data": {
      "image/png": "[encoded data removed]",
      "text/plain": [
       "<Figure size 432x288 with 1 Axes>"
      ]
     },
     "metadata": {
      "needs_background": "light"
     },
     "output_type": "display_data"
    }
   ],
   "source": [
    "plt.hist(A,bins=100)"
   ]
  },
  {
   "cell_type": "code",
   "execution_count": 37,
   "metadata": {},
   "outputs": [],
   "source": [
    "lmbda=20"
   ]
  },
  {
   "cell_type": "code",
   "execution_count": 38,
   "metadata": {},
   "outputs": [],
   "source": [
    "def pois(lmbda):\n",
    "    t=-1;\n",
    "    s=1\n",
    "    while(s>np.power(np.e,-lmbda)):\n",
    "        t+=1\n",
    "        s*=np.random.random()\n",
    "    return t"
   ]
  },
  {
   "cell_type": "code",
   "execution_count": 39,
   "metadata": {},
   "outputs": [],
   "source": [
    "A=np.zeros((10000))\n",
    "for i in range(A.shape[0]):\n",
    "    A[i]=pois(lmbda)"
   ]
  },
  {
   "cell_type": "code",
   "execution_count": 40,
   "metadata": {},
   "outputs": [
    {
     "data": {
      "text/plain": [
       "(array([  1.,   0.,   2.,   0.,   0.,  11.,   0.,   0.,  10.,   0.,   0.,\n",
       "         40.,   0.,  47.,   0.,   0.,  91.,   0.,   0., 151.,   0.,   0.,\n",
       "        241.,   0.,   0., 389.,   0., 560.,   0.,   0., 656.,   0.,   0.,\n",
       "        792.,   0.,   0., 855.,   0., 920.,   0.,   0., 889.,   0.,   0.,\n",
       "        858.,   0.,   0., 717.,   0.,   0., 665.,   0., 562.,   0.,   0.,\n",
       "        411.,   0.,   0., 322.,   0.,   0., 253.,   0., 206.,   0.,   0.,\n",
       "        126.,   0.,   0.,  86.,   0.,   0.,  58.,   0.,   0.,  25.,   0.,\n",
       "         26.,   0.,   0.,  11.,   0.,   0.,   9.,   0.,   0.,   3.,   0.,\n",
       "          1.,   0.,   0.,   4.,   0.,   0.,   1.,   0.,   0.,   0.,   0.,\n",
       "          1.]),\n",
       " array([ 5.  ,  5.36,  5.72,  6.08,  6.44,  6.8 ,  7.16,  7.52,  7.88,\n",
       "         8.24,  8.6 ,  8.96,  9.32,  9.68, 10.04, 10.4 , 10.76, 11.12,\n",
       "        11.48, 11.84, 12.2 , 12.56, 12.92, 13.28, 13.64, 14.  , 14.36,\n",
       "        14.72, 15.08, 15.44, 15.8 , 16.16, 16.52, 16.88, 17.24, 17.6 ,\n",
       "        17.96, 18.32, 18.68, 19.04, 19.4 , 19.76, 20.12, 20.48, 20.84,\n",
       "        21.2 , 21.56, 21.92, 22.28, 22.64, 23.  , 23.36, 23.72, 24.08,\n",
       "        24.44, 24.8 , 25.16, 25.52, 25.88, 26.24, 26.6 , 26.96, 27.32,\n",
       "        27.68, 28.04, 28.4 , 28.76, 29.12, 29.48, 29.84, 30.2 , 30.56,\n",
       "        30.92, 31.28, 31.64, 32.  , 32.36, 32.72, 33.08, 33.44, 33.8 ,\n",
       "        34.16, 34.52, 34.88, 35.24, 35.6 , 35.96, 36.32, 36.68, 37.04,\n",
       "        37.4 , 37.76, 38.12, 38.48, 38.84, 39.2 , 39.56, 39.92, 40.28,\n",
       "        40.64, 41.  ]),\n",
       " <BarContainer object of 100 artists>)"
      ]
     },
     "execution_count": 40,
     "metadata": {},
     "output_type": "execute_result"
    },
    {
     "data": {
      "image/png": "[encoded data removed]",
      "text/plain": [
       "<Figure size 432x288 with 1 Axes>"
      ]
     },
     "metadata": {
      "needs_background": "light"
     },
     "output_type": "display_data"
    }
   ],
   "source": [
    "plt.hist(A,bins=100)"
   ]
  },
  {
   "cell_type": "markdown",
   "metadata": {},
   "source": [
    "### Gamma"
   ]
  },
  {
   "cell_type": "markdown",
   "metadata": {},
   "source": [
    "we generate gamma distrebution $$ gamma(n,lambda) = \\sum_{i=0}^{n} x_{i} $$ which x_i is in exponentioal destribution"
   ]
  },
  {
   "cell_type": "code",
   "execution_count": 41,
   "metadata": {},
   "outputs": [],
   "source": [
    "import datetime"
   ]
  },
  {
   "cell_type": "code",
   "execution_count": 42,
   "metadata": {},
   "outputs": [],
   "source": [
    "def gamma(n,lmbda):\n",
    "    s=1\n",
    "    for i in range(n):\n",
    "        s*=np.random.random()\n",
    "    return -np.log2(s)/lmbda"
   ]
  },
  {
   "cell_type": "code",
   "execution_count": 43,
   "metadata": {},
   "outputs": [],
   "source": [
    "def test_gamma(n,lmbda):\n",
    "    s=0\n",
    "    for i in range(n):\n",
    "        s+=np.log2(np.random.random())\n",
    "    return -s/lmbda"
   ]
  },
  {
   "cell_type": "code",
   "execution_count": 44,
   "metadata": {},
   "outputs": [],
   "source": [
    "n=100\n",
    "lmbda=20"
   ]
  },
  {
   "cell_type": "code",
   "execution_count": 45,
   "metadata": {},
   "outputs": [],
   "source": [
    "A=np.zeros((100000))\n",
    "tick=datetime.datetime.now()\n",
    "for i in range(A.shape[0]):\n",
    "    A[i]=gamma(n,lmbda)\n",
    "tock=datetime.datetime.now()"
   ]
  },
  {
   "cell_type": "code",
   "execution_count": 46,
   "metadata": {},
   "outputs": [
    {
     "data": {
      "text/plain": [
       "datetime.timedelta(seconds=4, microseconds=91807)"
      ]
     },
     "execution_count": 46,
     "metadata": {},
     "output_type": "execute_result"
    }
   ],
   "source": [
    "tock-tick"
   ]
  },
  {
   "cell_type": "code",
   "execution_count": 47,
   "metadata": {},
   "outputs": [],
   "source": [
    "A=np.zeros((100000))\n",
    "tick=datetime.datetime.now()\n",
    "for i in range(A.shape[0]):\n",
    "    A[i]=test_gamma(n,lmbda)\n",
    "tock=datetime.datetime.now()"
   ]
  },
  {
   "cell_type": "code",
   "execution_count": 48,
   "metadata": {},
   "outputs": [
    {
     "data": {
      "text/plain": [
       "datetime.timedelta(seconds=14, microseconds=506346)"
      ]
     },
     "execution_count": 48,
     "metadata": {},
     "output_type": "execute_result"
    }
   ],
   "source": [
    "tock-tick"
   ]
  },
  {
   "cell_type": "code",
   "execution_count": 49,
   "metadata": {},
   "outputs": [
    {
     "data": {
      "text/plain": [
       "(array([  1.,   0.,   0.,   1.,   0.,   0.,   0.,   0.,   0.,   0.,   0.,\n",
       "          0.,   0.,   0.,   0.,   0.,   0.,   0.,   0.,   0.,   0.,   0.,\n",
       "          0.,   1.,   0.,   0.,   0.,   0.,   0.,   0.,   0.,   0.,   0.,\n",
       "          0.,   0.,   2.,   0.,   0.,   0.,   0.,   0.,   0.,   0.,   0.,\n",
       "          0.,   0.,   0.,   0.,   0.,   0.,   1.,   0.,   2.,   2.,   0.,\n",
       "          0.,   0.,   0.,   0.,   0.,   0.,   1.,   1.,   2.,   0.,   1.,\n",
       "          1.,   1.,   0.,   1.,   1.,   0.,   2.,   1.,   0.,   0.,   2.,\n",
       "          2.,   0.,   1.,   1.,   1.,   1.,   0.,   0.,   0.,   1.,   3.,\n",
       "          0.,   1.,   1.,   4.,   1.,   1.,   0.,   0.,   1.,   5.,   2.,\n",
       "          3.,   0.,   0.,   2.,   2.,   3.,   2.,   1.,   0.,   3.,   2.,\n",
       "          0.,   1.,   6.,   2.,   3.,   3.,   4.,   1.,   2.,   3.,   1.,\n",
       "          6.,   4.,   4.,  11.,  10.,   5.,   6.,   6.,   7.,   4.,   3.,\n",
       "          4.,   2.,   5.,  12.,   8.,   9.,   8.,   8.,  10.,   5.,  10.,\n",
       "         14.,  14.,   6.,  12.,   7.,   7.,  11.,   9.,   7.,  13.,  10.,\n",
       "         12.,  11.,  13.,  15.,  15.,  19.,   8.,  12.,  19.,  15.,  15.,\n",
       "         18.,  10.,  10.,  15.,  16.,  20.,  15.,  26.,  17.,  30.,  24.,\n",
       "         20.,  26.,  26.,  25.,  21.,  30.,  32.,  26.,  28.,  31.,  24.,\n",
       "         26.,  26.,  33.,  31.,  27.,  30.,  27.,  30.,  32.,  36.,  34.,\n",
       "         33.,  41.,  34.,  40.,  43.,  42.,  41.,  40.,  33.,  40.,  43.,\n",
       "         43.,  50.,  50.,  61.,  52.,  55.,  45.,  41.,  52.,  59.,  57.,\n",
       "         51.,  68.,  60.,  62.,  78.,  56.,  70.,  67.,  75.,  78.,  69.,\n",
       "         72.,  60.,  73.,  81.,  66.,  89.,  80.,  79.,  78.,  72., 103.,\n",
       "         76.,  92.,  80.,  92.,  93.,  88., 101.,  91.,  99.,  89., 113.,\n",
       "        104.,  94., 116., 122., 114., 104.,  99., 113., 106., 127., 105.,\n",
       "        142., 131., 123., 127., 126., 135., 136., 148., 138., 141., 141.,\n",
       "        144., 142., 164., 189., 152., 146., 138., 154., 161., 149., 146.,\n",
       "        191., 152., 152., 180., 163., 173., 182., 181., 190., 164., 201.,\n",
       "        188., 188., 187., 192., 222., 217., 222., 205., 184., 214., 222.,\n",
       "        201., 207., 217., 196., 211., 232., 225., 220., 211., 224., 227.,\n",
       "        232., 236., 243., 258., 250., 215., 234., 244., 254., 253., 241.,\n",
       "        250., 265., 266., 258., 279., 238., 258., 318., 292., 277., 276.,\n",
       "        265., 293., 298., 300., 265., 285., 289., 296., 298., 298., 305.,\n",
       "        317., 270., 299., 283., 287., 320., 324., 296., 295., 300., 323.,\n",
       "        307., 305., 326., 315., 324., 296., 313., 331., 336., 357., 324.,\n",
       "        344., 340., 340., 326., 344., 340., 307., 304., 353., 353., 355.,\n",
       "        349., 340., 344., 343., 381., 344., 331., 340., 325., 347., 343.,\n",
       "        366., 373., 350., 364., 366., 352., 362., 369., 348., 394., 370.,\n",
       "        357., 371., 359., 334., 384., 349., 337., 320., 381., 383., 353.,\n",
       "        342., 348., 351., 383., 364., 372., 355., 357., 351., 333., 363.,\n",
       "        364., 350., 330., 335., 344., 350., 374., 345., 362., 340., 374.,\n",
       "        358., 330., 359., 345., 343., 343., 340., 347., 373., 346., 391.,\n",
       "        325., 321., 365., 319., 356., 325., 324., 360., 352., 336., 334.,\n",
       "        342., 332., 359., 303., 346., 329., 318., 336., 323., 340., 293.,\n",
       "        304., 296., 294., 330., 332., 353., 299., 327., 315., 305., 263.,\n",
       "        270., 300., 301., 324., 281., 306., 290., 313., 315., 288., 287.,\n",
       "        313., 303., 297., 266., 286., 306., 264., 266., 270., 273., 270.,\n",
       "        281., 286., 269., 254., 268., 241., 236., 248., 234., 246., 227.,\n",
       "        238., 260., 252., 263., 267., 239., 239., 242., 233., 268., 244.,\n",
       "        221., 187., 223., 216., 233., 234., 232., 200., 210., 223., 207.,\n",
       "        199., 210., 206., 206., 177., 197., 198., 216., 223., 200., 211.,\n",
       "        175., 180., 177., 179., 179., 167., 159., 188., 155., 184., 179.,\n",
       "        182., 182., 180., 175., 149., 167., 156., 153., 141., 141., 130.,\n",
       "        156., 148., 143., 148., 147., 123., 159., 127., 152., 134., 144.,\n",
       "        132., 121., 109., 121., 146., 113., 112., 138., 111., 117., 115.,\n",
       "        114., 103., 111., 107., 101., 102., 108.,  95.,  94., 103.,  99.,\n",
       "         78., 121., 100., 101.,  93.,  90., 104.,  99., 102.,  84.,  90.,\n",
       "         64.,  77.,  71.,  73.,  88.,  69.,  75.,  87.,  75.,  77.,  74.,\n",
       "         83.,  67.,  63.,  81.,  68.,  60.,  60.,  74.,  53.,  63.,  65.,\n",
       "         58.,  61.,  57.,  60.,  78.,  49.,  54.,  72.,  57.,  57.,  63.,\n",
       "         68.,  58.,  47.,  68.,  48.,  40.,  56.,  74.,  50.,  42.,  47.,\n",
       "         57.,  48.,  45.,  56.,  27.,  37.,  41.,  47.,  32.,  43.,  31.,\n",
       "         47.,  28.,  39.,  36.,  28.,  21.,  33.,  34.,  29.,  37.,  32.,\n",
       "         41.,  37.,  27.,  26.,  41.,  21.,  37.,  31.,  32.,  19.,  22.,\n",
       "         23.,  23.,  22.,  23.,  31.,  19.,  19.,  18.,  23.,  23.,  27.,\n",
       "         21.,  26.,  23.,  24.,  18.,  28.,  24.,  19.,  23.,  15.,  18.,\n",
       "         15.,  14.,  16.,  15.,  18.,  17.,  16.,  18.,  19.,  13.,  11.,\n",
       "         14.,  13.,  13.,  11.,  15.,  16.,  15.,   4.,  17.,  15.,  12.,\n",
       "         11.,  11.,  15.,  10.,   9.,   6.,   8.,   8.,   6.,   6.,  10.,\n",
       "          6.,  11.,  19.,  10.,  13.,   9.,   3.,   6.,   6.,   3.,   5.,\n",
       "          6.,   2.,   2.,   6.,   5.,   3.,   8.,   4.,   8.,   7.,   7.,\n",
       "          9.,   9.,   4.,   5.,   4.,   7.,   7.,   3.,   4.,   4.,   3.,\n",
       "          2.,   2.,   6.,   5.,   5.,   4.,   2.,   3.,   1.,   2.,   4.,\n",
       "          2.,   5.,   6.,   4.,   5.,   2.,   5.,   3.,   2.,   3.,   0.,\n",
       "          3.,   4.,   6.,   5.,   4.,   1.,   5.,   0.,   1.,   0.,   1.,\n",
       "          1.,   2.,   1.,   1.,   0.,   2.,   2.,   1.,   1.,   1.,   1.,\n",
       "          1.,   4.,   3.,   2.,   2.,   1.,   2.,   0.,   2.,   3.,   0.,\n",
       "          0.,   1.,   0.,   1.,   0.,   1.,   0.,   1.,   0.,   0.,   0.,\n",
       "          1.,   0.,   0.,   1.,   1.,   2.,   3.,   1.,   0.,   1.,   3.,\n",
       "          1.,   0.,   0.,   1.,   0.,   0.,   0.,   1.,   1.,   2.,   0.,\n",
       "          0.,   0.,   1.,   0.,   1.,   0.,   0.,   0.,   0.,   1.,   1.,\n",
       "          0.,   1.,   0.,   0.,   0.,   0.,   0.,   0.,   0.,   0.,   1.,\n",
       "          0.,   0.,   0.,   0.,   1.,   1.,   1.,   0.,   0.,   0.,   0.,\n",
       "          0.,   0.,   0.,   0.,   0.,   0.,   0.,   0.,   0.,   0.,   0.,\n",
       "          1.,   1.,   0.,   0.,   0.,   1.,   0.,   0.,   0.,   0.,   0.,\n",
       "          0.,   0.,   0.,   0.,   0.,   0.,   0.,   0.,   1.,   1.,   0.,\n",
       "          0.,   0.,   0.,   0.,   0.,   0.,   0.,   0.,   0.,   0.,   0.,\n",
       "          0.,   0.,   1.,   0.,   0.,   0.,   0.,   0.,   0.,   0.,   0.,\n",
       "          0.,   0.,   0.,   0.,   0.,   0.,   0.,   0.,   0.,   0.,   0.,\n",
       "          0.,   0.,   0.,   0.,   0.,   0.,   0.,   0.,   0.,   0.,   0.,\n",
       "          0.,   0.,   0.,   0.,   0.,   0.,   0.,   0.,   0.,   0.,   0.,\n",
       "          0.,   0.,   0.,   0.,   0.,   0.,   0.,   0.,   0.,   1.]),\n",
       " array([ 4.42206871,  4.42855844,  4.43504817, ..., 10.89882247,\n",
       "        10.9053122 , 10.91180193]),\n",
       " <BarContainer object of 1000 artists>)"
      ]
     },
     "execution_count": 49,
     "metadata": {},
     "output_type": "execute_result"
    },
    {
     "data": {
      "image/png": "[encoded data removed]",
      "text/plain": [
       "<Figure size 432x288 with 1 Axes>"
      ]
     },
     "metadata": {
      "needs_background": "light"
     },
     "output_type": "display_data"
    }
   ],
   "source": [
    "plt.hist(A,bins=1000)"
   ]
  },
  {
   "cell_type": "markdown",
   "metadata": {},
   "source": [
    "### Acceptance Rejection"
   ]
  },
  {
   "cell_type": "markdown",
   "metadata": {},
   "source": [
    "making normal bistribution bu using exponentioal disribution"
   ]
  },
  {
   "cell_type": "code",
   "execution_count": 50,
   "metadata": {},
   "outputs": [],
   "source": [
    "import numpy as np\n",
    "import matplotlib.pyplot as plt"
   ]
  },
  {
   "cell_type": "code",
   "execution_count": 51,
   "metadata": {},
   "outputs": [],
   "source": [
    "def normal(n):\n",
    "    A=np.zeros((n))\n",
    "    for i in range(n):\n",
    "        b=False\n",
    "        while(not b):\n",
    "            x=np.random.exponential()\n",
    "            a=np.power(np.e,-((x-1)**2)/2)\n",
    "            if(a>np.random.random()):\n",
    "                b=True\n",
    "                if(np.random.random()>0.5):\n",
    "                    A[i]=x\n",
    "                else:\n",
    "                    A[i]=-x\n",
    "    return A"
   ]
  },
  {
   "cell_type": "code",
   "execution_count": 52,
   "metadata": {},
   "outputs": [
    {
     "data": {
      "text/plain": [
       "(array([  1.,   0.,   0.,   0.,   0.,   0.,   0.,   0.,   0.,   0.,   0.,\n",
       "          0.,   0.,   0.,   0.,   0.,   0.,   1.,   0.,   1.,   1.,   0.,\n",
       "          1.,   0.,   0.,   1.,   0.,   1.,   0.,   0.,   0.,   1.,   0.,\n",
       "          0.,   0.,   0.,   0.,   0.,   0.,   0.,   1.,   1.,   0.,   2.,\n",
       "          1.,   0.,   1.,   0.,   0.,   0.,   0.,   0.,   1.,   1.,   0.,\n",
       "          0.,   0.,   0.,   1.,   1.,   0.,   1.,   0.,   1.,   0.,   1.,\n",
       "          2.,   0.,   0.,   0.,   1.,   1.,   2.,   2.,   1.,   1.,   1.,\n",
       "          2.,   4.,   1.,   1.,   2.,   1.,   1.,   2.,   1.,   4.,   2.,\n",
       "          0.,   0.,   1.,   1.,   1.,   2.,   4.,   2.,   1.,   2.,   3.,\n",
       "          0.,   2.,   1.,   0.,   1.,   4.,   2.,   2.,   4.,   3.,   1.,\n",
       "          3.,   3.,   1.,   3.,   6.,   3.,   1.,   1.,   2.,   4.,   2.,\n",
       "          1.,   3.,   9.,   6.,   4.,   2.,   5.,   4.,   2.,   4.,   2.,\n",
       "          3.,   5.,   2.,   1.,   4.,   7.,   3.,   8.,   6.,   5.,   4.,\n",
       "          8.,   7.,   6.,  10.,   2.,   8.,   2.,  10.,   5.,   6.,   8.,\n",
       "         10.,  10.,   8.,   6.,  12.,  11.,   8.,   5.,   9.,   9.,  12.,\n",
       "         10.,  16.,  12.,  13.,  13.,  12.,   8.,  18.,  16.,  12.,  10.,\n",
       "         12.,  11.,  13.,  21.,  16.,  10.,  16.,  16.,   9.,  17.,  17.,\n",
       "         14.,  14.,  16.,  19.,  15.,  23.,  20.,  15.,  16.,  15.,  24.,\n",
       "         14.,  24.,  21.,  16.,  15.,  22.,  19.,  30.,  26.,  22.,  32.,\n",
       "         28.,  28.,  24.,  42.,  22.,  26.,  33.,  34.,  37.,  28.,  37.,\n",
       "         35.,  29.,  22.,  27.,  41.,  41.,  37.,  40.,  36.,  25.,  37.,\n",
       "         34.,  47.,  37.,  42.,  37.,  51.,  57.,  45.,  34.,  35.,  48.,\n",
       "         57.,  44.,  48.,  61.,  41.,  46.,  47.,  52.,  57.,  47.,  76.,\n",
       "         56.,  53.,  49.,  48.,  64.,  61.,  58.,  58.,  77.,  65.,  69.,\n",
       "         61.,  63.,  53.,  75.,  81.,  59.,  74.,  55.,  81.,  79.,  86.,\n",
       "         74.,  69.,  68.,  85.,  83.,  67.,  95.,  88.,  84.,  88.,  73.,\n",
       "        102., 103.,  87.,  75.,  82.,  89.,  94.,  75., 104., 106.,  94.,\n",
       "        108., 108., 106., 104., 116., 118., 121., 118., 108., 113., 115.,\n",
       "        108., 127., 122., 132., 140., 146., 130., 135., 109., 141., 126.,\n",
       "        141., 147., 131., 146., 163., 139., 153., 138., 142., 158., 164.,\n",
       "        168., 153., 152., 168., 143., 166., 177., 169., 184., 180., 174.,\n",
       "        188., 174., 152., 165., 176., 202., 205., 175., 180., 193., 194.,\n",
       "        180., 204., 191., 192., 213., 195., 173., 198., 200., 213., 200.,\n",
       "        200., 235., 218., 218., 199., 230., 199., 236., 237., 212., 233.,\n",
       "        210., 227., 211., 257., 251., 256., 224., 254., 240., 251., 242.,\n",
       "        232., 238., 270., 254., 229., 265., 257., 266., 267., 252., 249.,\n",
       "        258., 276., 264., 272., 282., 264., 231., 268., 259., 271., 292.,\n",
       "        279., 289., 318., 244., 297., 317., 313., 315., 281., 270., 281.,\n",
       "        300., 316., 283., 303., 303., 294., 306., 311., 332., 309., 306.,\n",
       "        329., 312., 317., 329., 312., 287., 310., 304., 328., 326., 334.,\n",
       "        329., 309., 316., 354., 335., 323., 324., 336., 319., 337., 353.,\n",
       "        336., 319., 362., 348., 336., 349., 311., 328., 354., 340., 318.,\n",
       "        330., 322., 338., 314., 325., 352., 354., 346., 316., 345., 324.,\n",
       "        339., 361., 350., 326., 312., 329., 324., 339., 352., 346., 329.,\n",
       "        334., 328., 335., 336., 330., 331., 333., 313., 340., 331., 365.,\n",
       "        347., 355., 341., 352., 309., 319., 315., 351., 341., 356., 322.,\n",
       "        305., 323., 353., 323., 315., 348., 337., 287., 328., 307., 310.,\n",
       "        313., 325., 322., 312., 336., 333., 307., 274., 293., 310., 312.,\n",
       "        299., 298., 336., 307., 273., 292., 299., 296., 352., 302., 289.,\n",
       "        295., 306., 299., 280., 275., 301., 296., 277., 263., 276., 295.,\n",
       "        266., 319., 289., 291., 267., 259., 251., 260., 260., 273., 263.,\n",
       "        239., 259., 287., 270., 264., 263., 257., 301., 244., 244., 231.,\n",
       "        261., 244., 234., 213., 256., 235., 218., 212., 248., 209., 260.,\n",
       "        220., 217., 223., 204., 214., 219., 233., 221., 207., 217., 211.,\n",
       "        207., 185., 199., 195., 199., 205., 200., 205., 200., 202., 179.,\n",
       "        181., 217., 182., 162., 182., 163., 201., 176., 140., 176., 198.,\n",
       "        180., 173., 161., 160., 148., 153., 174., 164., 158., 139., 148.,\n",
       "        158., 152., 155., 156., 136., 134., 147., 174., 141., 127., 155.,\n",
       "        125., 120., 118., 114., 129., 126., 151., 101., 137., 130., 123.,\n",
       "        117., 103., 108., 108., 108., 110., 102., 105.,  93.,  82., 112.,\n",
       "        112.,  99.,  84.,  92.,  92., 107.,  97.,  99., 102.,  93.,  96.,\n",
       "         91.,  77.,  95.,  89.,  95.,  87.,  78.,  79.,  81.,  78.,  90.,\n",
       "         82.,  84.,  83.,  68.,  68.,  72.,  71.,  67.,  69.,  67.,  74.,\n",
       "         63.,  65.,  55.,  54.,  68.,  58.,  48.,  45.,  52.,  56.,  54.,\n",
       "         51.,  51.,  54.,  64.,  57.,  42.,  65.,  45.,  48.,  56.,  50.,\n",
       "         40.,  41.,  49.,  41.,  50.,  30.,  39.,  47.,  38.,  36.,  39.,\n",
       "         32.,  35.,  35.,  38.,  39.,  37.,  40.,  35.,  32.,  23.,  27.,\n",
       "         22.,  34.,  36.,  30.,  27.,  23.,  38.,  41.,  21.,  18.,  28.,\n",
       "         36.,  25.,  21.,  24.,  18.,  29.,  16.,  22.,  22.,  16.,  29.,\n",
       "         15.,  19.,   9.,  21.,  21.,  23.,  16.,  19.,  20.,  22.,  19.,\n",
       "         15.,  16.,  20.,  17.,  15.,  13.,  12.,  15.,  22.,  16.,   8.,\n",
       "         13.,   8.,  11.,  13.,   5.,  12.,  13.,   8.,  14.,  10.,  10.,\n",
       "         11.,   9.,   4.,   3.,  11.,   7.,   9.,   7.,   8.,   4.,   9.,\n",
       "          1.,   7.,   7.,  11.,   8.,   3.,   8.,  12.,   6.,   7.,   0.,\n",
       "          7.,   3.,   7.,   3.,   5.,   6.,   5.,   3.,   5.,   2.,   4.,\n",
       "          3.,   9.,   2.,   4.,   4.,   6.,   2.,   4.,   3.,   3.,   3.,\n",
       "          3.,   3.,   4.,   1.,   4.,   2.,   3.,   3.,   2.,   1.,   5.,\n",
       "          2.,   1.,   0.,   4.,   4.,   1.,   5.,   3.,   0.,   3.,   3.,\n",
       "          0.,   1.,   0.,   2.,   2.,   2.,   2.,   1.,   0.,   0.,   2.,\n",
       "          5.,   2.,   1.,   0.,   2.,   2.,   1.,   1.,   3.,   0.,   0.,\n",
       "          1.,   1.,   0.,   2.,   2.,   1.,   2.,   0.,   1.,   0.,   0.,\n",
       "          0.,   0.,   1.,   0.,   0.,   1.,   0.,   0.,   2.,   0.,   1.,\n",
       "          3.,   0.,   0.,   1.,   0.,   0.,   0.,   0.,   0.,   0.,   1.,\n",
       "          0.,   0.,   0.,   0.,   1.,   0.,   0.,   0.,   0.,   0.,   0.,\n",
       "          0.,   0.,   0.,   1.,   0.,   0.,   0.,   0.,   1.,   2.,   0.,\n",
       "          0.,   0.,   0.,   0.,   0.,   0.,   0.,   1.,   1.,   0.,   0.,\n",
       "          1.,   0.,   0.,   0.,   0.,   0.,   0.,   0.,   0.,   0.,   2.,\n",
       "          0.,   0.,   0.,   0.,   0.,   1.,   0.,   0.,   0.,   0.,   0.,\n",
       "          0.,   0.,   0.,   0.,   0.,   0.,   0.,   0.,   0.,   0.,   0.,\n",
       "          0.,   0.,   1.,   0.,   0.,   0.,   0.,   0.,   0.,   0.,   0.,\n",
       "          0.,   0.,   0.,   0.,   0.,   0.,   0.,   0.,   0.,   1.]),\n",
       " array([-4.06025751, -4.05175918, -4.04326084, ...,  4.42108455,\n",
       "         4.42958289,  4.43808123]),\n",
       " <BarContainer object of 1000 artists>)"
      ]
     },
     "execution_count": 52,
     "metadata": {},
     "output_type": "execute_result"
    },
    {
     "data": {
      "image/png": "[encoded data removed]",
      "text/plain": [
       "<Figure size 432x288 with 1 Axes>"
      ]
     },
     "metadata": {
      "needs_background": "light"
     },
     "output_type": "display_data"
    }
   ],
   "source": [
    "A=normal(100000)\n",
    "plt.hist(A,bins=1000)"
   ]
  },
  {
   "cell_type": "markdown",
   "metadata": {},
   "source": [
    "### Normal Distribution via polar method"
   ]
  },
  {
   "cell_type": "markdown",
   "metadata": {},
   "source": [
    "$$N(\\mu,\\sigma) = \\sqrt {r}\\sin{(2\\pi*teta)} ,\\sqrt{r}\\cos{(2\\pi*teta)}$$ which teta is uniform and r is exponential with parameter $$\\frac{1}{2}$$"
   ]
  },
  {
   "cell_type": "code",
   "execution_count": 53,
   "metadata": {},
   "outputs": [],
   "source": [
    "A=np.zeros((100000))\n",
    "tick=datetime.datetime.now()\n",
    "for i in range(50000):\n",
    "    teta=2*np.pi*np.random.random()\n",
    "    r=-2*np.log(np.random.random())\n",
    "    A[2*i]=np.sqrt(r)*np.cos(teta)\n",
    "    A[2*i+1]=np.sqrt(r)*np.sin(teta)\n",
    "tock=datetime.datetime.now()"
   ]
  },
  {
   "cell_type": "code",
   "execution_count": 54,
   "metadata": {},
   "outputs": [
    {
     "data": {
      "text/plain": [
       "datetime.timedelta(microseconds=401247)"
      ]
     },
     "execution_count": 54,
     "metadata": {},
     "output_type": "execute_result"
    }
   ],
   "source": [
    "tock-tick"
   ]
  },
  {
   "cell_type": "code",
   "execution_count": 55,
   "metadata": {},
   "outputs": [
    {
     "data": {
      "text/plain": [
       "(array([  1.,   0.,   0.,   0.,   0.,   0.,   1.,   0.,   0.,   0.,   0.,\n",
       "          0.,   0.,   0.,   0.,   0.,   0.,   0.,   1.,   0.,   0.,   0.,\n",
       "          0.,   0.,   0.,   0.,   0.,   0.,   0.,   0.,   0.,   0.,   0.,\n",
       "          0.,   0.,   0.,   0.,   0.,   1.,   0.,   1.,   1.,   1.,   0.,\n",
       "          2.,   1.,   1.,   1.,   0.,   1.,   0.,   1.,   0.,   2.,   3.,\n",
       "          2.,   0.,   3.,   0.,   2.,   2.,   2.,   1.,   3.,   2.,   1.,\n",
       "          1.,   3.,   1.,   1.,   2.,   2.,   0.,   4.,   5.,   4.,   2.,\n",
       "          2.,   2.,   2.,   2.,   5.,   3.,   9.,   6.,   5.,   6.,   7.,\n",
       "          2.,   6.,  10.,   8.,   9.,   6.,   9.,   6.,   5.,   9.,  15.,\n",
       "          6.,  13.,  14.,  15.,  12.,  11.,  11.,  15.,  20.,  20.,  18.,\n",
       "         24.,  19.,  22.,  28.,  24.,  18.,  22.,  34.,  27.,  33.,  30.,\n",
       "         28.,  35.,  38.,  39.,  46.,  42.,  35.,  49.,  34.,  48.,  50.,\n",
       "         52.,  55.,  53.,  57.,  56.,  69.,  77.,  60.,  69.,  60.,  82.,\n",
       "         70.,  76., 100.,  80., 101.,  86.,  83., 101., 121., 125., 112.,\n",
       "        102., 105., 105., 136., 119., 135., 112., 128., 150., 152., 140.,\n",
       "        165., 174., 154., 162., 192., 199., 190., 183., 213., 176., 202.,\n",
       "        235., 242., 216., 216., 239., 237., 277., 259., 281., 244., 292.,\n",
       "        306., 275., 305., 288., 299., 299., 387., 319., 343., 339., 352.,\n",
       "        390., 374., 404., 365., 390., 425., 437., 405., 459., 431., 437.,\n",
       "        423., 460., 486., 476., 480., 463., 491., 522., 515., 528., 540.,\n",
       "        519., 554., 548., 532., 524., 549., 607., 637., 577., 605., 629.,\n",
       "        580., 643., 618., 626., 598., 625., 661., 615., 642., 668., 636.,\n",
       "        657., 656., 636., 662., 668., 684., 688., 678., 677., 650., 720.,\n",
       "        713., 710., 695., 667., 712., 681., 766., 699., 696., 764., 651.,\n",
       "        732., 695., 727., 702., 693., 685., 706., 714., 723., 668., 693.,\n",
       "        710., 677., 631., 724., 663., 689., 674., 628., 686., 636., 677.,\n",
       "        669., 635., 623., 626., 640., 624., 623., 586., 601., 601., 598.,\n",
       "        581., 582., 604., 570., 548., 576., 538., 485., 547., 496., 539.,\n",
       "        493., 493., 542., 465., 468., 498., 452., 443., 467., 410., 447.,\n",
       "        417., 439., 431., 400., 402., 430., 369., 383., 389., 381., 367.,\n",
       "        342., 316., 325., 336., 324., 315., 336., 318., 288., 280., 253.,\n",
       "        261., 256., 269., 245., 234., 245., 255., 209., 220., 225., 216.,\n",
       "        191., 193., 210., 157., 162., 176., 159., 154., 152., 156., 152.,\n",
       "        142., 133., 155., 144., 113., 109., 114., 108., 113., 101., 120.,\n",
       "        117.,  91.,  84.,  93.,  82.,  84.,  82.,  70.,  83.,  64.,  75.,\n",
       "         70.,  65.,  57.,  66.,  69.,  48.,  68.,  54.,  56.,  40.,  49.,\n",
       "         42.,  43.,  23.,  40.,  32.,  27.,  29.,  32.,  18.,  18.,  23.,\n",
       "         26.,  30.,  15.,  24.,  19.,  21.,  10.,  18.,  25.,  15.,  16.,\n",
       "         19.,  10.,  16.,  12.,  14.,  16.,  12.,  10.,   5.,   5.,  15.,\n",
       "         12.,   7.,   7.,  10.,   5.,   8.,   2.,   5.,   4.,   9.,   6.,\n",
       "          5.,   9.,   8.,   5.,   6.,   3.,   3.,   0.,   2.,   3.,   3.,\n",
       "          5.,   6.,   1.,   2.,   7.,   2.,   3.,   3.,   0.,   3.,   1.,\n",
       "          1.,   1.,   1.,   0.,   1.,   2.,   1.,   0.,   2.,   0.,   0.,\n",
       "          1.,   1.,   1.,   0.,   0.,   0.,   0.,   1.,   0.,   1.,   0.,\n",
       "          1.,   0.,   0.,   0.,   0.,   0.,   0.,   0.,   0.,   0.,   0.,\n",
       "          0.,   0.,   0.,   0.,   1.]),\n",
       " array([-4.64801407e+00, -4.63034487e+00, -4.61267567e+00, -4.59500646e+00,\n",
       "        -4.57733726e+00, -4.55966805e+00, -4.54199885e+00, -4.52432965e+00,\n",
       "        -4.50666044e+00, -4.48899124e+00, -4.47132203e+00, -4.45365283e+00,\n",
       "        -4.43598363e+00, -4.41831442e+00, -4.40064522e+00, -4.38297601e+00,\n",
       "        -4.36530681e+00, -4.34763760e+00, -4.32996840e+00, -4.31229920e+00,\n",
       "        -4.29462999e+00, -4.27696079e+00, -4.25929158e+00, -4.24162238e+00,\n",
       "        -4.22395318e+00, -4.20628397e+00, -4.18861477e+00, -4.17094556e+00,\n",
       "        -4.15327636e+00, -4.13560716e+00, -4.11793795e+00, -4.10026875e+00,\n",
       "        -4.08259954e+00, -4.06493034e+00, -4.04726114e+00, -4.02959193e+00,\n",
       "        -4.01192273e+00, -3.99425352e+00, -3.97658432e+00, -3.95891512e+00,\n",
       "        -3.94124591e+00, -3.92357671e+00, -3.90590750e+00, -3.88823830e+00,\n",
       "        -3.87056910e+00, -3.85289989e+00, -3.83523069e+00, -3.81756148e+00,\n",
       "        -3.79989228e+00, -3.78222307e+00, -3.76455387e+00, -3.74688467e+00,\n",
       "        -3.72921546e+00, -3.71154626e+00, -3.69387705e+00, -3.67620785e+00,\n",
       "        -3.65853865e+00, -3.64086944e+00, -3.62320024e+00, -3.60553103e+00,\n",
       "        -3.58786183e+00, -3.57019263e+00, -3.55252342e+00, -3.53485422e+00,\n",
       "        -3.51718501e+00, -3.49951581e+00, -3.48184661e+00, -3.46417740e+00,\n",
       "        -3.44650820e+00, -3.42883899e+00, -3.41116979e+00, -3.39350059e+00,\n",
       "        -3.37583138e+00, -3.35816218e+00, -3.34049297e+00, -3.32282377e+00,\n",
       "        -3.30515457e+00, -3.28748536e+00, -3.26981616e+00, -3.25214695e+00,\n",
       "        -3.23447775e+00, -3.21680854e+00, -3.19913934e+00, -3.18147014e+00,\n",
       "        -3.16380093e+00, -3.14613173e+00, -3.12846252e+00, -3.11079332e+00,\n",
       "        -3.09312412e+00, -3.07545491e+00, -3.05778571e+00, -3.04011650e+00,\n",
       "        -3.02244730e+00, -3.00477810e+00, -2.98710889e+00, -2.96943969e+00,\n",
       "        -2.95177048e+00, -2.93410128e+00, -2.91643208e+00, -2.89876287e+00,\n",
       "        -2.88109367e+00, -2.86342446e+00, -2.84575526e+00, -2.82808606e+00,\n",
       "        -2.81041685e+00, -2.79274765e+00, -2.77507844e+00, -2.75740924e+00,\n",
       "        -2.73974003e+00, -2.72207083e+00, -2.70440163e+00, -2.68673242e+00,\n",
       "        -2.66906322e+00, -2.65139401e+00, -2.63372481e+00, -2.61605561e+00,\n",
       "        -2.59838640e+00, -2.58071720e+00, -2.56304799e+00, -2.54537879e+00,\n",
       "        -2.52770959e+00, -2.51004038e+00, -2.49237118e+00, -2.47470197e+00,\n",
       "        -2.45703277e+00, -2.43936357e+00, -2.42169436e+00, -2.40402516e+00,\n",
       "        -2.38635595e+00, -2.36868675e+00, -2.35101755e+00, -2.33334834e+00,\n",
       "        -2.31567914e+00, -2.29800993e+00, -2.28034073e+00, -2.26267153e+00,\n",
       "        -2.24500232e+00, -2.22733312e+00, -2.20966391e+00, -2.19199471e+00,\n",
       "        -2.17432550e+00, -2.15665630e+00, -2.13898710e+00, -2.12131789e+00,\n",
       "        -2.10364869e+00, -2.08597948e+00, -2.06831028e+00, -2.05064108e+00,\n",
       "        -2.03297187e+00, -2.01530267e+00, -1.99763346e+00, -1.97996426e+00,\n",
       "        -1.96229506e+00, -1.94462585e+00, -1.92695665e+00, -1.90928744e+00,\n",
       "        -1.89161824e+00, -1.87394904e+00, -1.85627983e+00, -1.83861063e+00,\n",
       "        -1.82094142e+00, -1.80327222e+00, -1.78560302e+00, -1.76793381e+00,\n",
       "        -1.75026461e+00, -1.73259540e+00, -1.71492620e+00, -1.69725700e+00,\n",
       "        -1.67958779e+00, -1.66191859e+00, -1.64424938e+00, -1.62658018e+00,\n",
       "        -1.60891097e+00, -1.59124177e+00, -1.57357257e+00, -1.55590336e+00,\n",
       "        -1.53823416e+00, -1.52056495e+00, -1.50289575e+00, -1.48522655e+00,\n",
       "        -1.46755734e+00, -1.44988814e+00, -1.43221893e+00, -1.41454973e+00,\n",
       "        -1.39688053e+00, -1.37921132e+00, -1.36154212e+00, -1.34387291e+00,\n",
       "        -1.32620371e+00, -1.30853451e+00, -1.29086530e+00, -1.27319610e+00,\n",
       "        -1.25552689e+00, -1.23785769e+00, -1.22018849e+00, -1.20251928e+00,\n",
       "        -1.18485008e+00, -1.16718087e+00, -1.14951167e+00, -1.13184246e+00,\n",
       "        -1.11417326e+00, -1.09650406e+00, -1.07883485e+00, -1.06116565e+00,\n",
       "        -1.04349644e+00, -1.02582724e+00, -1.00815804e+00, -9.90488832e-01,\n",
       "        -9.72819628e-01, -9.55150424e-01, -9.37481220e-01, -9.19812016e-01,\n",
       "        -9.02142812e-01, -8.84473608e-01, -8.66804404e-01, -8.49135200e-01,\n",
       "        -8.31465996e-01, -8.13796792e-01, -7.96127588e-01, -7.78458384e-01,\n",
       "        -7.60789180e-01, -7.43119975e-01, -7.25450771e-01, -7.07781567e-01,\n",
       "        -6.90112363e-01, -6.72443159e-01, -6.54773955e-01, -6.37104751e-01,\n",
       "        -6.19435547e-01, -6.01766343e-01, -5.84097139e-01, -5.66427935e-01,\n",
       "        -5.48758731e-01, -5.31089527e-01, -5.13420323e-01, -4.95751119e-01,\n",
       "        -4.78081915e-01, -4.60412710e-01, -4.42743506e-01, -4.25074302e-01,\n",
       "        -4.07405098e-01, -3.89735894e-01, -3.72066690e-01, -3.54397486e-01,\n",
       "        -3.36728282e-01, -3.19059078e-01, -3.01389874e-01, -2.83720670e-01,\n",
       "        -2.66051466e-01, -2.48382262e-01, -2.30713058e-01, -2.13043854e-01,\n",
       "        -1.95374649e-01, -1.77705445e-01, -1.60036241e-01, -1.42367037e-01,\n",
       "        -1.24697833e-01, -1.07028629e-01, -8.93594251e-02, -7.16902210e-02,\n",
       "        -5.40210169e-02, -3.63518129e-02, -1.86826088e-02, -1.01340473e-03,\n",
       "         1.66557993e-02,  3.43250034e-02,  5.19942075e-02,  6.96634115e-02,\n",
       "         8.73326156e-02,  1.05001820e-01,  1.22671024e-01,  1.40340228e-01,\n",
       "         1.58009432e-01,  1.75678636e-01,  1.93347840e-01,  2.11017044e-01,\n",
       "         2.28686248e-01,  2.46355452e-01,  2.64024656e-01,  2.81693860e-01,\n",
       "         2.99363064e-01,  3.17032268e-01,  3.34701473e-01,  3.52370677e-01,\n",
       "         3.70039881e-01,  3.87709085e-01,  4.05378289e-01,  4.23047493e-01,\n",
       "         4.40716697e-01,  4.58385901e-01,  4.76055105e-01,  4.93724309e-01,\n",
       "         5.11393513e-01,  5.29062717e-01,  5.46731921e-01,  5.64401125e-01,\n",
       "         5.82070329e-01,  5.99739534e-01,  6.17408738e-01,  6.35077942e-01,\n",
       "         6.52747146e-01,  6.70416350e-01,  6.88085554e-01,  7.05754758e-01,\n",
       "         7.23423962e-01,  7.41093166e-01,  7.58762370e-01,  7.76431574e-01,\n",
       "         7.94100778e-01,  8.11769982e-01,  8.29439186e-01,  8.47108390e-01,\n",
       "         8.64777595e-01,  8.82446799e-01,  9.00116003e-01,  9.17785207e-01,\n",
       "         9.35454411e-01,  9.53123615e-01,  9.70792819e-01,  9.88462023e-01,\n",
       "         1.00613123e+00,  1.02380043e+00,  1.04146964e+00,  1.05913884e+00,\n",
       "         1.07680804e+00,  1.09447725e+00,  1.11214645e+00,  1.12981566e+00,\n",
       "         1.14748486e+00,  1.16515406e+00,  1.18282327e+00,  1.20049247e+00,\n",
       "         1.21816168e+00,  1.23583088e+00,  1.25350008e+00,  1.27116929e+00,\n",
       "         1.28883849e+00,  1.30650770e+00,  1.32417690e+00,  1.34184610e+00,\n",
       "         1.35951531e+00,  1.37718451e+00,  1.39485372e+00,  1.41252292e+00,\n",
       "         1.43019212e+00,  1.44786133e+00,  1.46553053e+00,  1.48319974e+00,\n",
       "         1.50086894e+00,  1.51853814e+00,  1.53620735e+00,  1.55387655e+00,\n",
       "         1.57154576e+00,  1.58921496e+00,  1.60688417e+00,  1.62455337e+00,\n",
       "         1.64222257e+00,  1.65989178e+00,  1.67756098e+00,  1.69523019e+00,\n",
       "         1.71289939e+00,  1.73056859e+00,  1.74823780e+00,  1.76590700e+00,\n",
       "         1.78357621e+00,  1.80124541e+00,  1.81891461e+00,  1.83658382e+00,\n",
       "         1.85425302e+00,  1.87192223e+00,  1.88959143e+00,  1.90726063e+00,\n",
       "         1.92492984e+00,  1.94259904e+00,  1.96026825e+00,  1.97793745e+00,\n",
       "         1.99560665e+00,  2.01327586e+00,  2.03094506e+00,  2.04861427e+00,\n",
       "         2.06628347e+00,  2.08395268e+00,  2.10162188e+00,  2.11929108e+00,\n",
       "         2.13696029e+00,  2.15462949e+00,  2.17229870e+00,  2.18996790e+00,\n",
       "         2.20763710e+00,  2.22530631e+00,  2.24297551e+00,  2.26064472e+00,\n",
       "         2.27831392e+00,  2.29598312e+00,  2.31365233e+00,  2.33132153e+00,\n",
       "         2.34899074e+00,  2.36665994e+00,  2.38432914e+00,  2.40199835e+00,\n",
       "         2.41966755e+00,  2.43733676e+00,  2.45500596e+00,  2.47267516e+00,\n",
       "         2.49034437e+00,  2.50801357e+00,  2.52568278e+00,  2.54335198e+00,\n",
       "         2.56102118e+00,  2.57869039e+00,  2.59635959e+00,  2.61402880e+00,\n",
       "         2.63169800e+00,  2.64936721e+00,  2.66703641e+00,  2.68470561e+00,\n",
       "         2.70237482e+00,  2.72004402e+00,  2.73771323e+00,  2.75538243e+00,\n",
       "         2.77305163e+00,  2.79072084e+00,  2.80839004e+00,  2.82605925e+00,\n",
       "         2.84372845e+00,  2.86139765e+00,  2.87906686e+00,  2.89673606e+00,\n",
       "         2.91440527e+00,  2.93207447e+00,  2.94974367e+00,  2.96741288e+00,\n",
       "         2.98508208e+00,  3.00275129e+00,  3.02042049e+00,  3.03808969e+00,\n",
       "         3.05575890e+00,  3.07342810e+00,  3.09109731e+00,  3.10876651e+00,\n",
       "         3.12643571e+00,  3.14410492e+00,  3.16177412e+00,  3.17944333e+00,\n",
       "         3.19711253e+00,  3.21478174e+00,  3.23245094e+00,  3.25012014e+00,\n",
       "         3.26778935e+00,  3.28545855e+00,  3.30312776e+00,  3.32079696e+00,\n",
       "         3.33846616e+00,  3.35613537e+00,  3.37380457e+00,  3.39147378e+00,\n",
       "         3.40914298e+00,  3.42681218e+00,  3.44448139e+00,  3.46215059e+00,\n",
       "         3.47981980e+00,  3.49748900e+00,  3.51515820e+00,  3.53282741e+00,\n",
       "         3.55049661e+00,  3.56816582e+00,  3.58583502e+00,  3.60350422e+00,\n",
       "         3.62117343e+00,  3.63884263e+00,  3.65651184e+00,  3.67418104e+00,\n",
       "         3.69185025e+00,  3.70951945e+00,  3.72718865e+00,  3.74485786e+00,\n",
       "         3.76252706e+00,  3.78019627e+00,  3.79786547e+00,  3.81553467e+00,\n",
       "         3.83320388e+00,  3.85087308e+00,  3.86854229e+00,  3.88621149e+00,\n",
       "         3.90388069e+00,  3.92154990e+00,  3.93921910e+00,  3.95688831e+00,\n",
       "         3.97455751e+00,  3.99222671e+00,  4.00989592e+00,  4.02756512e+00,\n",
       "         4.04523433e+00,  4.06290353e+00,  4.08057273e+00,  4.09824194e+00,\n",
       "         4.11591114e+00,  4.13358035e+00,  4.15124955e+00,  4.16891875e+00,\n",
       "         4.18658796e+00]),\n",
       " <BarContainer object of 500 artists>)"
      ]
     },
     "execution_count": 55,
     "metadata": {},
     "output_type": "execute_result"
    },
    {
     "data": {
      "image/png": "[encoded data removed]",
      "text/plain": [
       "<Figure size 432x288 with 1 Axes>"
      ]
     },
     "metadata": {
      "needs_background": "light"
     },
     "output_type": "display_data"
    }
   ],
   "source": [
    "plt.hist(A,bins=500)"
   ]
  },
  {
   "cell_type": "code",
   "execution_count": 56,
   "metadata": {},
   "outputs": [],
   "source": [
    "A=np.zeros((100000))\n",
    "tick=datetime.datetime.now()\n",
    "\n",
    "for i in range(50000):\n",
    "    b=False\n",
    "    while(not b):\n",
    "        v1=np.random.random()*2-1\n",
    "        v2=np.random.random()*2-1\n",
    "        if(v1*v1+v2*v2<1):\n",
    "            r=-2*np.log(np.random.random())\n",
    "            A[2*i]=np.sqrt(r/(v1*v1+v2*v2))*v1\n",
    "            A[2*i+1]=np.sqrt(r/(v1*v1+v2*v2))*v2\n",
    "            b=True\n",
    "tock=datetime.datetime.now()"
   ]
  },
  {
   "cell_type": "code",
   "execution_count": 57,
   "metadata": {},
   "outputs": [
    {
     "data": {
      "text/plain": [
       "datetime.timedelta(microseconds=438770)"
      ]
     },
     "execution_count": 57,
     "metadata": {},
     "output_type": "execute_result"
    }
   ],
   "source": [
    "tock-tick"
   ]
  },
  {
   "cell_type": "code",
   "execution_count": 58,
   "metadata": {},
   "outputs": [
    {
     "data": {
      "text/plain": [
       "(array([  1.,   0.,   0.,   0.,   0.,   0.,   0.,   0.,   1.,   0.,   1.,\n",
       "          0.,   0.,   0.,   1.,   0.,   1.,   1.,   0.,   1.,   0.,   1.,\n",
       "          0.,   0.,   0.,   0.,   1.,   1.,   2.,   1.,   2.,   1.,   4.,\n",
       "          1.,   2.,   2.,   3.,   2.,   2.,   1.,   4.,   2.,   3.,   3.,\n",
       "          6.,   1.,   3.,   6.,   5.,   6.,   4.,   4.,   3.,   5.,   5.,\n",
       "          6.,   6.,   5.,   4.,   5.,   6.,   9.,   5.,  10.,   7.,  12.,\n",
       "         15.,  13.,  16.,  13.,  22.,  12.,  13.,  12.,  18.,  21.,  21.,\n",
       "         10.,  21.,  24.,  22.,  24.,  18.,  24.,  19.,  16.,  36.,  27.,\n",
       "         25.,  35.,  34.,  39.,  41.,  40.,  57.,  45.,  51.,  50.,  55.,\n",
       "         62.,  63.,  49.,  66.,  68.,  72.,  60.,  77.,  71.,  67.,  82.,\n",
       "         71.,  93.,  92.,  83., 101.,  87., 103., 105., 111., 117., 119.,\n",
       "        112., 126., 139., 128., 125., 142., 149., 149., 164., 149., 172.,\n",
       "        179., 195., 181., 175., 175., 213., 212., 215., 219., 216., 220.,\n",
       "        241., 247., 286., 241., 236., 294., 262., 279., 287., 315., 277.,\n",
       "        296., 329., 317., 338., 326., 374., 363., 339., 360., 360., 389.,\n",
       "        387., 433., 398., 409., 434., 432., 425., 449., 464., 468., 460.,\n",
       "        488., 483., 470., 505., 528., 543., 544., 559., 543., 471., 534.,\n",
       "        571., 597., 535., 616., 575., 607., 644., 616., 625., 618., 679.,\n",
       "        654., 641., 677., 630., 625., 692., 711., 719., 677., 692., 685.,\n",
       "        676., 672., 654., 690., 717., 690., 732., 767., 770., 701., 695.,\n",
       "        737., 729., 707., 715., 751., 731., 700., 707., 725., 718., 714.,\n",
       "        670., 790., 747., 729., 738., 736., 706., 728., 679., 726., 707.,\n",
       "        688., 661., 679., 662., 700., 668., 643., 665., 679., 666., 616.,\n",
       "        659., 641., 618., 601., 609., 650., 600., 587., 582., 568., 614.,\n",
       "        594., 533., 518., 555., 549., 484., 555., 516., 514., 488., 525.,\n",
       "        505., 468., 438., 471., 449., 472., 397., 405., 433., 410., 404.,\n",
       "        404., 396., 371., 423., 327., 369., 352., 343., 322., 310., 342.,\n",
       "        325., 297., 299., 286., 279., 257., 265., 275., 260., 253., 239.,\n",
       "        219., 212., 214., 228., 220., 198., 207., 186., 170., 173., 171.,\n",
       "        162., 165., 161., 157., 132., 132., 144., 123., 135., 122., 142.,\n",
       "        119., 122.,  92.,  90., 106., 102.,  96.,  94., 106.,  78.,  84.,\n",
       "         65.,  71.,  85.,  72.,  66.,  66.,  67.,  76.,  60.,  54.,  48.,\n",
       "         56.,  53.,  48.,  36.,  39.,  41.,  39.,  36.,  46.,  34.,  27.,\n",
       "         25.,  31.,  29.,  26.,  27.,  33.,  19.,  21.,  16.,  22.,  22.,\n",
       "         24.,  18.,  15.,  11.,  17.,  19.,  13.,  19.,  11.,  14.,  13.,\n",
       "         12.,   8.,  10.,  10.,   9.,  11.,   8.,  15.,  12.,   8.,   6.,\n",
       "          5.,   2.,   4.,   9.,   4.,   2.,   4.,   5.,   2.,   6.,   4.,\n",
       "          5.,   4.,   5.,   2.,   1.,   2.,   0.,   1.,   1.,   1.,   0.,\n",
       "          1.,   2.,   3.,   1.,   3.,   0.,   1.,   1.,   4.,   2.,   0.,\n",
       "          2.,   2.,   2.,   1.,   2.,   0.,   1.,   1.,   0.,   0.,   1.,\n",
       "          1.,   1.,   0.,   1.,   1.,   1.,   0.,   2.,   0.,   0.,   1.,\n",
       "          0.,   0.,   0.,   1.,   0.,   1.,   0.,   0.,   1.,   0.,   0.,\n",
       "          0.,   0.,   0.,   0.,   0.,   0.,   0.,   0.,   0.,   0.,   0.,\n",
       "          0.,   0.,   0.,   0.,   0.,   0.,   0.,   0.,   0.,   0.,   0.,\n",
       "          0.,   0.,   1.,   0.,   0.,   0.,   0.,   0.,   0.,   0.,   0.,\n",
       "          0.,   0.,   0.,   0.,   1.]),\n",
       " array([-4.08356136e+00, -4.06549785e+00, -4.04743434e+00, -4.02937083e+00,\n",
       "        -4.01130732e+00, -3.99324381e+00, -3.97518030e+00, -3.95711679e+00,\n",
       "        -3.93905328e+00, -3.92098977e+00, -3.90292626e+00, -3.88486275e+00,\n",
       "        -3.86679924e+00, -3.84873573e+00, -3.83067222e+00, -3.81260871e+00,\n",
       "        -3.79454520e+00, -3.77648169e+00, -3.75841818e+00, -3.74035467e+00,\n",
       "        -3.72229116e+00, -3.70422765e+00, -3.68616414e+00, -3.66810063e+00,\n",
       "        -3.65003712e+00, -3.63197361e+00, -3.61391010e+00, -3.59584659e+00,\n",
       "        -3.57778308e+00, -3.55971957e+00, -3.54165606e+00, -3.52359255e+00,\n",
       "        -3.50552904e+00, -3.48746552e+00, -3.46940201e+00, -3.45133850e+00,\n",
       "        -3.43327499e+00, -3.41521148e+00, -3.39714797e+00, -3.37908446e+00,\n",
       "        -3.36102095e+00, -3.34295744e+00, -3.32489393e+00, -3.30683042e+00,\n",
       "        -3.28876691e+00, -3.27070340e+00, -3.25263989e+00, -3.23457638e+00,\n",
       "        -3.21651287e+00, -3.19844936e+00, -3.18038585e+00, -3.16232234e+00,\n",
       "        -3.14425883e+00, -3.12619532e+00, -3.10813181e+00, -3.09006830e+00,\n",
       "        -3.07200479e+00, -3.05394128e+00, -3.03587777e+00, -3.01781426e+00,\n",
       "        -2.99975075e+00, -2.98168724e+00, -2.96362373e+00, -2.94556022e+00,\n",
       "        -2.92749671e+00, -2.90943320e+00, -2.89136969e+00, -2.87330618e+00,\n",
       "        -2.85524267e+00, -2.83717916e+00, -2.81911565e+00, -2.80105214e+00,\n",
       "        -2.78298863e+00, -2.76492512e+00, -2.74686161e+00, -2.72879809e+00,\n",
       "        -2.71073458e+00, -2.69267107e+00, -2.67460756e+00, -2.65654405e+00,\n",
       "        -2.63848054e+00, -2.62041703e+00, -2.60235352e+00, -2.58429001e+00,\n",
       "        -2.56622650e+00, -2.54816299e+00, -2.53009948e+00, -2.51203597e+00,\n",
       "        -2.49397246e+00, -2.47590895e+00, -2.45784544e+00, -2.43978193e+00,\n",
       "        -2.42171842e+00, -2.40365491e+00, -2.38559140e+00, -2.36752789e+00,\n",
       "        -2.34946438e+00, -2.33140087e+00, -2.31333736e+00, -2.29527385e+00,\n",
       "        -2.27721034e+00, -2.25914683e+00, -2.24108332e+00, -2.22301981e+00,\n",
       "        -2.20495630e+00, -2.18689279e+00, -2.16882928e+00, -2.15076577e+00,\n",
       "        -2.13270226e+00, -2.11463875e+00, -2.09657524e+00, -2.07851173e+00,\n",
       "        -2.06044822e+00, -2.04238471e+00, -2.02432120e+00, -2.00625769e+00,\n",
       "        -1.98819418e+00, -1.97013066e+00, -1.95206715e+00, -1.93400364e+00,\n",
       "        -1.91594013e+00, -1.89787662e+00, -1.87981311e+00, -1.86174960e+00,\n",
       "        -1.84368609e+00, -1.82562258e+00, -1.80755907e+00, -1.78949556e+00,\n",
       "        -1.77143205e+00, -1.75336854e+00, -1.73530503e+00, -1.71724152e+00,\n",
       "        -1.69917801e+00, -1.68111450e+00, -1.66305099e+00, -1.64498748e+00,\n",
       "        -1.62692397e+00, -1.60886046e+00, -1.59079695e+00, -1.57273344e+00,\n",
       "        -1.55466993e+00, -1.53660642e+00, -1.51854291e+00, -1.50047940e+00,\n",
       "        -1.48241589e+00, -1.46435238e+00, -1.44628887e+00, -1.42822536e+00,\n",
       "        -1.41016185e+00, -1.39209834e+00, -1.37403483e+00, -1.35597132e+00,\n",
       "        -1.33790781e+00, -1.31984430e+00, -1.30178079e+00, -1.28371728e+00,\n",
       "        -1.26565377e+00, -1.24759026e+00, -1.22952675e+00, -1.21146323e+00,\n",
       "        -1.19339972e+00, -1.17533621e+00, -1.15727270e+00, -1.13920919e+00,\n",
       "        -1.12114568e+00, -1.10308217e+00, -1.08501866e+00, -1.06695515e+00,\n",
       "        -1.04889164e+00, -1.03082813e+00, -1.01276462e+00, -9.94701112e-01,\n",
       "        -9.76637602e-01, -9.58574092e-01, -9.40510581e-01, -9.22447071e-01,\n",
       "        -9.04383561e-01, -8.86320051e-01, -8.68256540e-01, -8.50193030e-01,\n",
       "        -8.32129520e-01, -8.14066010e-01, -7.96002499e-01, -7.77938989e-01,\n",
       "        -7.59875479e-01, -7.41811969e-01, -7.23748458e-01, -7.05684948e-01,\n",
       "        -6.87621438e-01, -6.69557928e-01, -6.51494418e-01, -6.33430907e-01,\n",
       "        -6.15367397e-01, -5.97303887e-01, -5.79240377e-01, -5.61176866e-01,\n",
       "        -5.43113356e-01, -5.25049846e-01, -5.06986336e-01, -4.88922825e-01,\n",
       "        -4.70859315e-01, -4.52795805e-01, -4.34732295e-01, -4.16668784e-01,\n",
       "        -3.98605274e-01, -3.80541764e-01, -3.62478254e-01, -3.44414743e-01,\n",
       "        -3.26351233e-01, -3.08287723e-01, -2.90224213e-01, -2.72160703e-01,\n",
       "        -2.54097192e-01, -2.36033682e-01, -2.17970172e-01, -1.99906662e-01,\n",
       "        -1.81843151e-01, -1.63779641e-01, -1.45716131e-01, -1.27652621e-01,\n",
       "        -1.09589110e-01, -9.15256002e-02, -7.34620899e-02, -5.53985797e-02,\n",
       "        -3.73350694e-02, -1.92715592e-02, -1.20804897e-03,  1.68554613e-02,\n",
       "         3.49189715e-02,  5.29824817e-02,  7.10459920e-02,  8.91095022e-02,\n",
       "         1.07173012e-01,  1.25236523e-01,  1.43300033e-01,  1.61363543e-01,\n",
       "         1.79427053e-01,  1.97490564e-01,  2.15554074e-01,  2.33617584e-01,\n",
       "         2.51681094e-01,  2.69744605e-01,  2.87808115e-01,  3.05871625e-01,\n",
       "         3.23935135e-01,  3.41998646e-01,  3.60062156e-01,  3.78125666e-01,\n",
       "         3.96189176e-01,  4.14252686e-01,  4.32316197e-01,  4.50379707e-01,\n",
       "         4.68443217e-01,  4.86506727e-01,  5.04570238e-01,  5.22633748e-01,\n",
       "         5.40697258e-01,  5.58760768e-01,  5.76824279e-01,  5.94887789e-01,\n",
       "         6.12951299e-01,  6.31014809e-01,  6.49078320e-01,  6.67141830e-01,\n",
       "         6.85205340e-01,  7.03268850e-01,  7.21332361e-01,  7.39395871e-01,\n",
       "         7.57459381e-01,  7.75522891e-01,  7.93586401e-01,  8.11649912e-01,\n",
       "         8.29713422e-01,  8.47776932e-01,  8.65840442e-01,  8.83903953e-01,\n",
       "         9.01967463e-01,  9.20030973e-01,  9.38094483e-01,  9.56157994e-01,\n",
       "         9.74221504e-01,  9.92285014e-01,  1.01034852e+00,  1.02841203e+00,\n",
       "         1.04647554e+00,  1.06453906e+00,  1.08260257e+00,  1.10066608e+00,\n",
       "         1.11872959e+00,  1.13679310e+00,  1.15485661e+00,  1.17292012e+00,\n",
       "         1.19098363e+00,  1.20904714e+00,  1.22711065e+00,  1.24517416e+00,\n",
       "         1.26323767e+00,  1.28130118e+00,  1.29936469e+00,  1.31742820e+00,\n",
       "         1.33549171e+00,  1.35355522e+00,  1.37161873e+00,  1.38968224e+00,\n",
       "         1.40774575e+00,  1.42580926e+00,  1.44387277e+00,  1.46193628e+00,\n",
       "         1.47999979e+00,  1.49806330e+00,  1.51612681e+00,  1.53419032e+00,\n",
       "         1.55225383e+00,  1.57031734e+00,  1.58838085e+00,  1.60644436e+00,\n",
       "         1.62450787e+00,  1.64257138e+00,  1.66063489e+00,  1.67869840e+00,\n",
       "         1.69676191e+00,  1.71482542e+00,  1.73288893e+00,  1.75095244e+00,\n",
       "         1.76901595e+00,  1.78707946e+00,  1.80514297e+00,  1.82320649e+00,\n",
       "         1.84127000e+00,  1.85933351e+00,  1.87739702e+00,  1.89546053e+00,\n",
       "         1.91352404e+00,  1.93158755e+00,  1.94965106e+00,  1.96771457e+00,\n",
       "         1.98577808e+00,  2.00384159e+00,  2.02190510e+00,  2.03996861e+00,\n",
       "         2.05803212e+00,  2.07609563e+00,  2.09415914e+00,  2.11222265e+00,\n",
       "         2.13028616e+00,  2.14834967e+00,  2.16641318e+00,  2.18447669e+00,\n",
       "         2.20254020e+00,  2.22060371e+00,  2.23866722e+00,  2.25673073e+00,\n",
       "         2.27479424e+00,  2.29285775e+00,  2.31092126e+00,  2.32898477e+00,\n",
       "         2.34704828e+00,  2.36511179e+00,  2.38317530e+00,  2.40123881e+00,\n",
       "         2.41930232e+00,  2.43736583e+00,  2.45542934e+00,  2.47349285e+00,\n",
       "         2.49155636e+00,  2.50961987e+00,  2.52768338e+00,  2.54574689e+00,\n",
       "         2.56381040e+00,  2.58187392e+00,  2.59993743e+00,  2.61800094e+00,\n",
       "         2.63606445e+00,  2.65412796e+00,  2.67219147e+00,  2.69025498e+00,\n",
       "         2.70831849e+00,  2.72638200e+00,  2.74444551e+00,  2.76250902e+00,\n",
       "         2.78057253e+00,  2.79863604e+00,  2.81669955e+00,  2.83476306e+00,\n",
       "         2.85282657e+00,  2.87089008e+00,  2.88895359e+00,  2.90701710e+00,\n",
       "         2.92508061e+00,  2.94314412e+00,  2.96120763e+00,  2.97927114e+00,\n",
       "         2.99733465e+00,  3.01539816e+00,  3.03346167e+00,  3.05152518e+00,\n",
       "         3.06958869e+00,  3.08765220e+00,  3.10571571e+00,  3.12377922e+00,\n",
       "         3.14184273e+00,  3.15990624e+00,  3.17796975e+00,  3.19603326e+00,\n",
       "         3.21409677e+00,  3.23216028e+00,  3.25022379e+00,  3.26828730e+00,\n",
       "         3.28635081e+00,  3.30441432e+00,  3.32247783e+00,  3.34054134e+00,\n",
       "         3.35860486e+00,  3.37666837e+00,  3.39473188e+00,  3.41279539e+00,\n",
       "         3.43085890e+00,  3.44892241e+00,  3.46698592e+00,  3.48504943e+00,\n",
       "         3.50311294e+00,  3.52117645e+00,  3.53923996e+00,  3.55730347e+00,\n",
       "         3.57536698e+00,  3.59343049e+00,  3.61149400e+00,  3.62955751e+00,\n",
       "         3.64762102e+00,  3.66568453e+00,  3.68374804e+00,  3.70181155e+00,\n",
       "         3.71987506e+00,  3.73793857e+00,  3.75600208e+00,  3.77406559e+00,\n",
       "         3.79212910e+00,  3.81019261e+00,  3.82825612e+00,  3.84631963e+00,\n",
       "         3.86438314e+00,  3.88244665e+00,  3.90051016e+00,  3.91857367e+00,\n",
       "         3.93663718e+00,  3.95470069e+00,  3.97276420e+00,  3.99082771e+00,\n",
       "         4.00889122e+00,  4.02695473e+00,  4.04501824e+00,  4.06308175e+00,\n",
       "         4.08114526e+00,  4.09920877e+00,  4.11727229e+00,  4.13533580e+00,\n",
       "         4.15339931e+00,  4.17146282e+00,  4.18952633e+00,  4.20758984e+00,\n",
       "         4.22565335e+00,  4.24371686e+00,  4.26178037e+00,  4.27984388e+00,\n",
       "         4.29790739e+00,  4.31597090e+00,  4.33403441e+00,  4.35209792e+00,\n",
       "         4.37016143e+00,  4.38822494e+00,  4.40628845e+00,  4.42435196e+00,\n",
       "         4.44241547e+00,  4.46047898e+00,  4.47854249e+00,  4.49660600e+00,\n",
       "         4.51466951e+00,  4.53273302e+00,  4.55079653e+00,  4.56886004e+00,\n",
       "         4.58692355e+00,  4.60498706e+00,  4.62305057e+00,  4.64111408e+00,\n",
       "         4.65917759e+00,  4.67724110e+00,  4.69530461e+00,  4.71336812e+00,\n",
       "         4.73143163e+00,  4.74949514e+00,  4.76755865e+00,  4.78562216e+00,\n",
       "         4.80368567e+00,  4.82174918e+00,  4.83981269e+00,  4.85787620e+00,\n",
       "         4.87593972e+00,  4.89400323e+00,  4.91206674e+00,  4.93013025e+00,\n",
       "         4.94819376e+00]),\n",
       " <BarContainer object of 500 artists>)"
      ]
     },
     "execution_count": 58,
     "metadata": {},
     "output_type": "execute_result"
    },
    {
     "data": {
      "image/png": "[encoded data removed]",
      "text/plain": [
       "<Figure size 432x288 with 1 Axes>"
      ]
     },
     "metadata": {
      "needs_background": "light"
     },
     "output_type": "display_data"
    }
   ],
   "source": [
    "plt.hist(A,bins=500)"
   ]
  },
  {
   "cell_type": "markdown",
   "metadata": {},
   "source": [
    "### Homogeneous Poisson Process"
   ]
  },
  {
   "cell_type": "code",
   "execution_count": 59,
   "metadata": {},
   "outputs": [],
   "source": [
    "T=10\n",
    "lambda_=1"
   ]
  },
  {
   "cell_type": "code",
   "execution_count": 60,
   "metadata": {},
   "outputs": [],
   "source": [
    "tick=datetime.datetime.now()\n",
    "s=0\n",
    "k=[]\n",
    "while(s<T):\n",
    "    s+=np.random.exponential(lambda_)\n",
    "    k.append(s)\n",
    "tack=datetime.datetime.now()"
   ]
  },
  {
   "cell_type": "code",
   "execution_count": 61,
   "metadata": {},
   "outputs": [
    {
     "data": {
      "text/plain": [
       "datetime.timedelta(microseconds=310)"
      ]
     },
     "execution_count": 61,
     "metadata": {},
     "output_type": "execute_result"
    }
   ],
   "source": [
    "tack-tick"
   ]
  },
  {
   "cell_type": "code",
   "execution_count": 62,
   "metadata": {},
   "outputs": [
    {
     "data": {
      "text/plain": [
       "<matplotlib.collections.PathCollection at 0x7f66eb071b20>"
      ]
     },
     "execution_count": 62,
     "metadata": {},
     "output_type": "execute_result"
    },
    {
     "data": {
      "image/png": "[encoded data removed]",
      "text/plain": [
       "<Figure size 432x288 with 1 Axes>"
      ]
     },
     "metadata": {
      "needs_background": "light"
     },
     "output_type": "display_data"
    }
   ],
   "source": [
    "plt.scatter([i for i in range(np.array(k).shape[0])],k)"
   ]
  },
  {
   "cell_type": "code",
   "execution_count": 63,
   "metadata": {},
   "outputs": [],
   "source": [
    "tick=datetime.datetime.now()\n",
    "k=[]\n",
    "s=0\n",
    "for i in range(np.random.poisson(T*lambda_)):\n",
    "    k.append(T*np.random.random())\n",
    "tack=datetime.datetime.now()"
   ]
  },
  {
   "cell_type": "code",
   "execution_count": 64,
   "metadata": {},
   "outputs": [
    {
     "data": {
      "text/plain": [
       "datetime.timedelta(microseconds=311)"
      ]
     },
     "execution_count": 64,
     "metadata": {},
     "output_type": "execute_result"
    }
   ],
   "source": [
    "tack-tick"
   ]
  },
  {
   "cell_type": "code",
   "execution_count": 65,
   "metadata": {},
   "outputs": [],
   "source": [
    "k.sort()"
   ]
  },
  {
   "cell_type": "code",
   "execution_count": 66,
   "metadata": {},
   "outputs": [
    {
     "data": {
      "text/plain": [
       "<matplotlib.collections.PathCollection at 0x7f66eb0342b0>"
      ]
     },
     "execution_count": 66,
     "metadata": {},
     "output_type": "execute_result"
    },
    {
     "data": {
      "image/png": "[encoded data removed]",
      "text/plain": [
       "<Figure size 432x288 with 1 Axes>"
      ]
     },
     "metadata": {
      "needs_background": "light"
     },
     "output_type": "display_data"
    }
   ],
   "source": [
    "plt.scatter([i for i in range(np.array(k).shape[0])],k)"
   ]
  },
  {
   "cell_type": "markdown",
   "metadata": {},
   "source": [
    "### Non-homogeneous Poisson Process "
   ]
  },
  {
   "cell_type": "markdown",
   "metadata": {},
   "source": [
    "### Thining"
   ]
  },
  {
   "cell_type": "markdown",
   "metadata": {},
   "source": [
    "when we have a poisson process with diffrent lambda all over the time "
   ]
  },
  {
   "cell_type": "markdown",
   "metadata": {},
   "source": [
    "so we get a $$\\lambda_{0} $$ and for S_i  and with probability $$\\frac{\\lambda(S_{i})}{\\lambda_{0}}$$ we save  $S_{i}$"
   ]
  },
  {
   "cell_type": "code",
   "execution_count": 67,
   "metadata": {},
   "outputs": [],
   "source": [
    "def lambda_(t):\n",
    "    return 10+t"
   ]
  },
  {
   "cell_type": "code",
   "execution_count": 68,
   "metadata": {},
   "outputs": [],
   "source": [
    "def dotes(T):\n",
    "    dotes=[]\n",
    "#     here we should make lambda_0 be the maximom of lambda_\n",
    "    lambda_0=20\n",
    "    t=np.random.exponential(lambda_0)\n",
    "    while(t<T):\n",
    "        u=np.random.random()\n",
    "        if(u<=(lambda_(t)/lambda_0)):\n",
    "            dotes.append(t)\n",
    "        t+=np.random.exponential(lambda_0)\n",
    "    return dotes    "
   ]
  },
  {
   "cell_type": "code",
   "execution_count": 69,
   "metadata": {},
   "outputs": [],
   "source": [
    "dic=[]\n",
    "for x in range(100000):\n",
    "    a=np.array(dotes(10))\n",
    "    for i in range(a.size):\n",
    "        dic.append(a[i])"
   ]
  },
  {
   "cell_type": "code",
   "execution_count": 70,
   "metadata": {},
   "outputs": [
    {
     "data": {
      "text/plain": [
       "(array([239., 241., 271., 263., 249., 252., 269., 268., 283., 301., 260.,\n",
       "        264., 296., 270., 267., 278., 312., 299., 291., 313., 313., 310.,\n",
       "        293., 326., 283., 339., 326., 327., 293., 340., 330., 314., 300.,\n",
       "        316., 354., 326., 292., 355., 365., 355., 367., 327., 363., 376.,\n",
       "        336., 361., 346., 364., 333., 379., 373., 379., 374., 368., 389.,\n",
       "        360., 410., 379., 397., 404., 428., 411., 425., 399., 437., 402.,\n",
       "        416., 403., 431., 438., 412., 477., 437., 426., 389., 430., 450.,\n",
       "        457., 469., 415., 455., 462., 489., 485., 432., 462., 464., 432.,\n",
       "        489., 465., 468., 447., 517., 484., 492., 516., 486., 481., 499.,\n",
       "        462.]),\n",
       " array([9.13452003e-05, 1.00089357e-01, 2.00087368e-01, 3.00085380e-01,\n",
       "        4.00083391e-01, 5.00081402e-01, 6.00079414e-01, 7.00077425e-01,\n",
       "        8.00075437e-01, 9.00073448e-01, 1.00007146e+00, 1.10006947e+00,\n",
       "        1.20006748e+00, 1.30006549e+00, 1.40006351e+00, 1.50006152e+00,\n",
       "        1.60005953e+00, 1.70005754e+00, 1.80005555e+00, 1.90005356e+00,\n",
       "        2.00005157e+00, 2.10004959e+00, 2.20004760e+00, 2.30004561e+00,\n",
       "        2.40004362e+00, 2.50004163e+00, 2.60003964e+00, 2.70003765e+00,\n",
       "        2.80003567e+00, 2.90003368e+00, 3.00003169e+00, 3.10002970e+00,\n",
       "        3.20002771e+00, 3.30002572e+00, 3.40002373e+00, 3.50002175e+00,\n",
       "        3.60001976e+00, 3.70001777e+00, 3.80001578e+00, 3.90001379e+00,\n",
       "        4.00001180e+00, 4.10000981e+00, 4.20000783e+00, 4.30000584e+00,\n",
       "        4.40000385e+00, 4.50000186e+00, 4.59999987e+00, 4.69999788e+00,\n",
       "        4.79999589e+00, 4.89999391e+00, 4.99999192e+00, 5.09998993e+00,\n",
       "        5.19998794e+00, 5.29998595e+00, 5.39998396e+00, 5.49998197e+00,\n",
       "        5.59997999e+00, 5.69997800e+00, 5.79997601e+00, 5.89997402e+00,\n",
       "        5.99997203e+00, 6.09997004e+00, 6.19996805e+00, 6.29996607e+00,\n",
       "        6.39996408e+00, 6.49996209e+00, 6.59996010e+00, 6.69995811e+00,\n",
       "        6.79995612e+00, 6.89995413e+00, 6.99995215e+00, 7.09995016e+00,\n",
       "        7.19994817e+00, 7.29994618e+00, 7.39994419e+00, 7.49994220e+00,\n",
       "        7.59994021e+00, 7.69993823e+00, 7.79993624e+00, 7.89993425e+00,\n",
       "        7.99993226e+00, 8.09993027e+00, 8.19992828e+00, 8.29992630e+00,\n",
       "        8.39992431e+00, 8.49992232e+00, 8.59992033e+00, 8.69991834e+00,\n",
       "        8.79991635e+00, 8.89991436e+00, 8.99991238e+00, 9.09991039e+00,\n",
       "        9.19990840e+00, 9.29990641e+00, 9.39990442e+00, 9.49990243e+00,\n",
       "        9.59990044e+00, 9.69989846e+00, 9.79989647e+00, 9.89989448e+00,\n",
       "        9.99989249e+00]),\n",
       " <BarContainer object of 100 artists>)"
      ]
     },
     "execution_count": 70,
     "metadata": {},
     "output_type": "execute_result"
    },
    {
     "data": {
      "image/png": "[encoded data removed]",
      "text/plain": [
       "<Figure size 432x288 with 1 Axes>"
      ]
     },
     "metadata": {
      "needs_background": "light"
     },
     "output_type": "display_data"
    }
   ],
   "source": [
    "plt.hist(dic,bins=100)"
   ]
  },
  {
   "cell_type": "code",
   "execution_count": 71,
   "metadata": {},
   "outputs": [
    {
     "data": {
      "text/plain": [
       "0.37367"
      ]
     },
     "execution_count": 71,
     "metadata": {},
     "output_type": "execute_result"
    }
   ],
   "source": [
    "np.array(dic).size/100000"
   ]
  },
  {
   "cell_type": "markdown",
   "metadata": {},
   "source": [
    "### Poisson process in 2D "
   ]
  },
  {
   "cell_type": "code",
   "execution_count": 72,
   "metadata": {},
   "outputs": [],
   "source": [
    "R=15\n",
    "lambda_=3"
   ]
  },
  {
   "cell_type": "code",
   "execution_count": 73,
   "metadata": {},
   "outputs": [],
   "source": [
    "dotes=[]\n",
    "X_Y=[]\n",
    "s=0\n",
    "while(s<np.pi*R*R):\n",
    "    s+=np.random.exponential(lambda_)\n",
    "    teta=np.random.random()*2*np.pi\n",
    "    r=np.sqrt(s/np.pi)\n",
    "    dotes.append([r,teta])\n",
    "    X_Y.append([r*np.sin(teta),r*np.cos(teta)])"
   ]
  },
  {
   "cell_type": "code",
   "execution_count": 74,
   "metadata": {},
   "outputs": [
    {
     "data": {
      "text/plain": [
       "<matplotlib.collections.PathCollection at 0x7f66eadb7a90>"
      ]
     },
     "execution_count": 74,
     "metadata": {},
     "output_type": "execute_result"
    },
    {
     "data": {
      "image/png": "[encoded data removed]",
      "text/plain": [
       "<Figure size 432x288 with 1 Axes>"
      ]
     },
     "metadata": {
      "needs_background": "light"
     },
     "output_type": "display_data"
    }
   ],
   "source": [
    "theta = np.linspace(0, 2*np.pi, R)\n",
    "\n",
    "x1 = R*np.cos(theta)\n",
    "x2 = R*np.sin(theta)\n",
    "\n",
    "fig, ax = plt.subplots(1)\n",
    "\n",
    "ax.plot(x1, x2)\n",
    "ax.set_aspect(1)\n",
    "\n",
    "plt.xlim(-R,R)\n",
    "plt.ylim(-R,R)\n",
    "\n",
    "plt.grid(linestyle='-')\n",
    "\n",
    "plt.scatter(np.array(X_Y)[:,0],np.array(X_Y)[:,1],color='r')"
   ]
  },
  {
   "cell_type": "markdown",
   "metadata": {},
   "source": [
    "### single server"
   ]
  },
  {
   "cell_type": "code",
   "execution_count": 75,
   "metadata": {},
   "outputs": [],
   "source": [
    "def singel(mu,sigma,T,Lambda):\n",
    "    t=0\n",
    "    arrivel=[]\n",
    "    while(t<T):\n",
    "        t+=np.random.exponential(Lambda)\n",
    "        s=np.random.normal(mu,sigma)\n",
    "        arrivel.append([t,s])\n",
    "    arrivel=np.array(arrivel)\n",
    "    person=np.zeros(arrivel.shape)\n",
    "    t=0\n",
    "    for i in range(arrivel.shape[0]):\n",
    "        if(t<T):\n",
    "            if(t<=arrivel[i,0]):\n",
    "                t=arrivel[i,0]\n",
    "            person[i,0]=t\n",
    "            t+=arrivel[i,1]\n",
    "            person[i,1]=t\n",
    "    return max(t-T,0)"
   ]
  },
  {
   "cell_type": "code",
   "execution_count": 76,
   "metadata": {},
   "outputs": [],
   "source": [
    "mu=(1/20)\n",
    "sigma=(1/80)\n",
    "T=8\n",
    "Lambda=(1/12)"
   ]
  },
  {
   "cell_type": "code",
   "execution_count": 77,
   "metadata": {},
   "outputs": [
    {
     "data": {
      "text/plain": [
       "(array([865., 880., 897., 847., 856., 796., 602., 488., 372., 326., 261.,\n",
       "        244., 241., 206., 166., 183., 141., 141., 133., 117., 119.,  97.,\n",
       "         81.,  93.,  62.,  55.,  69.,  58.,  58.,  53.,  40.,  35.,  38.,\n",
       "         36.,  30.,  26.,  27.,  20.,  21.,  17.,  24.,  16.,  15.,  18.,\n",
       "         16.,  11.,  10.,   7.,  11.,  12.,   6.,   1.,   5.,   4.,   6.,\n",
       "          6.,   4.,   2.,   2.,   3.,   2.,   2.,   5.,   2.,   1.,   2.,\n",
       "          0.,   0.,   0.,   0.,   0.,   1.,   0.,   0.,   0.,   1.,   0.,\n",
       "          1.,   0.,   0.,   1.,   1.,   1.,   1.,   1.,   0.,   0.,   0.,\n",
       "          0.,   0.,   0.,   1.,   0.,   0.,   0.,   0.,   0.,   0.,   0.,\n",
       "          1.]),\n",
       " array([5.57021584e-06, 7.57932789e-03, 1.51530856e-02, 2.27268432e-02,\n",
       "        3.03006009e-02, 3.78743586e-02, 4.54481163e-02, 5.30218739e-02,\n",
       "        6.05956316e-02, 6.81693893e-02, 7.57431469e-02, 8.33169046e-02,\n",
       "        9.08906623e-02, 9.84644200e-02, 1.06038178e-01, 1.13611935e-01,\n",
       "        1.21185693e-01, 1.28759451e-01, 1.36333208e-01, 1.43906966e-01,\n",
       "        1.51480724e-01, 1.59054481e-01, 1.66628239e-01, 1.74201997e-01,\n",
       "        1.81775754e-01, 1.89349512e-01, 1.96923270e-01, 2.04497027e-01,\n",
       "        2.12070785e-01, 2.19644543e-01, 2.27218300e-01, 2.34792058e-01,\n",
       "        2.42365816e-01, 2.49939573e-01, 2.57513331e-01, 2.65087089e-01,\n",
       "        2.72660846e-01, 2.80234604e-01, 2.87808362e-01, 2.95382119e-01,\n",
       "        3.02955877e-01, 3.10529635e-01, 3.18103392e-01, 3.25677150e-01,\n",
       "        3.33250908e-01, 3.40824665e-01, 3.48398423e-01, 3.55972181e-01,\n",
       "        3.63545939e-01, 3.71119696e-01, 3.78693454e-01, 3.86267212e-01,\n",
       "        3.93840969e-01, 4.01414727e-01, 4.08988485e-01, 4.16562242e-01,\n",
       "        4.24136000e-01, 4.31709758e-01, 4.39283515e-01, 4.46857273e-01,\n",
       "        4.54431031e-01, 4.62004788e-01, 4.69578546e-01, 4.77152304e-01,\n",
       "        4.84726061e-01, 4.92299819e-01, 4.99873577e-01, 5.07447334e-01,\n",
       "        5.15021092e-01, 5.22594850e-01, 5.30168607e-01, 5.37742365e-01,\n",
       "        5.45316123e-01, 5.52889880e-01, 5.60463638e-01, 5.68037396e-01,\n",
       "        5.75611153e-01, 5.83184911e-01, 5.90758669e-01, 5.98332426e-01,\n",
       "        6.05906184e-01, 6.13479942e-01, 6.21053699e-01, 6.28627457e-01,\n",
       "        6.36201215e-01, 6.43774972e-01, 6.51348730e-01, 6.58922488e-01,\n",
       "        6.66496245e-01, 6.74070003e-01, 6.81643761e-01, 6.89217518e-01,\n",
       "        6.96791276e-01, 7.04365034e-01, 7.11938791e-01, 7.19512549e-01,\n",
       "        7.27086307e-01, 7.34660064e-01, 7.42233822e-01, 7.49807580e-01,\n",
       "        7.57381337e-01]),\n",
       " <BarContainer object of 100 artists>)"
      ]
     },
     "execution_count": 77,
     "metadata": {},
     "output_type": "execute_result"
    },
    {
     "data": {
      "image/png": "[encoded data removed]",
      "text/plain": [
       "<Figure size 432x288 with 1 Axes>"
      ]
     },
     "metadata": {
      "needs_background": "light"
     },
     "output_type": "display_data"
    }
   ],
   "source": [
    "M=10000\n",
    "t=np.zeros((M,1))\n",
    "for i in range(M):\n",
    "    t[i]=singel(mu,sigma,T,Lambda)\n",
    "plt.hist(t,bins=100)"
   ]
  },
  {
   "cell_type": "code",
   "execution_count": 78,
   "metadata": {},
   "outputs": [],
   "source": [
    "mu=(1/10)\n",
    "sigma=(1/80)\n",
    "T=8\n",
    "Lambda=(1/12)"
   ]
  },
  {
   "cell_type": "code",
   "execution_count": 79,
   "metadata": {},
   "outputs": [
    {
     "data": {
      "text/plain": [
       "(array([301., 279., 285., 254., 285., 275., 264., 268., 279., 268., 250.,\n",
       "        303., 277., 281., 299., 267., 291., 290., 266., 298., 304., 279.,\n",
       "        272., 286., 270., 283., 277., 275., 271., 265., 228., 230., 192.,\n",
       "        194., 190., 145., 107., 105.,  60.,  54.,  44.,  30.,  21.,  10.,\n",
       "          5.,   5.,   4.,   2.,   0.,   1.,   0.,   0.,   1.,   0.,   0.,\n",
       "          0.,   0.,   0.,   1.,   0.,   0.,   0.,   0.,   0.,   1.,   0.,\n",
       "          1.,   1.,   0.,   0.,   0.,   0.,   0.,   0.,   0.,   0.,   0.,\n",
       "          0.,   0.,   0.,   0.,   1.,   1.,   1.,   0.,   0.,   0.,   0.,\n",
       "          0.,   1.,   0.,   0.,   0.,   0.,   1.,   0.,   0.,   0.,   0.,\n",
       "          1.]),\n",
       " array([9.83851840e-06, 2.80736396e-03, 5.60488940e-03, 8.40241483e-03,\n",
       "        1.11999403e-02, 1.39974657e-02, 1.67949911e-02, 1.95925166e-02,\n",
       "        2.23900420e-02, 2.51875675e-02, 2.79850929e-02, 3.07826183e-02,\n",
       "        3.35801438e-02, 3.63776692e-02, 3.91751947e-02, 4.19727201e-02,\n",
       "        4.47702455e-02, 4.75677710e-02, 5.03652964e-02, 5.31628218e-02,\n",
       "        5.59603473e-02, 5.87578727e-02, 6.15553982e-02, 6.43529236e-02,\n",
       "        6.71504490e-02, 6.99479745e-02, 7.27454999e-02, 7.55430254e-02,\n",
       "        7.83405508e-02, 8.11380762e-02, 8.39356017e-02, 8.67331271e-02,\n",
       "        8.95306525e-02, 9.23281780e-02, 9.51257034e-02, 9.79232289e-02,\n",
       "        1.00720754e-01, 1.03518280e-01, 1.06315805e-01, 1.09113331e-01,\n",
       "        1.11910856e-01, 1.14708381e-01, 1.17505907e-01, 1.20303432e-01,\n",
       "        1.23100958e-01, 1.25898483e-01, 1.28696009e-01, 1.31493534e-01,\n",
       "        1.34291060e-01, 1.37088585e-01, 1.39886110e-01, 1.42683636e-01,\n",
       "        1.45481161e-01, 1.48278687e-01, 1.51076212e-01, 1.53873738e-01,\n",
       "        1.56671263e-01, 1.59468789e-01, 1.62266314e-01, 1.65063839e-01,\n",
       "        1.67861365e-01, 1.70658890e-01, 1.73456416e-01, 1.76253941e-01,\n",
       "        1.79051467e-01, 1.81848992e-01, 1.84646517e-01, 1.87444043e-01,\n",
       "        1.90241568e-01, 1.93039094e-01, 1.95836619e-01, 1.98634145e-01,\n",
       "        2.01431670e-01, 2.04229196e-01, 2.07026721e-01, 2.09824246e-01,\n",
       "        2.12621772e-01, 2.15419297e-01, 2.18216823e-01, 2.21014348e-01,\n",
       "        2.23811874e-01, 2.26609399e-01, 2.29406924e-01, 2.32204450e-01,\n",
       "        2.35001975e-01, 2.37799501e-01, 2.40597026e-01, 2.43394552e-01,\n",
       "        2.46192077e-01, 2.48989603e-01, 2.51787128e-01, 2.54584653e-01,\n",
       "        2.57382179e-01, 2.60179704e-01, 2.62977230e-01, 2.65774755e-01,\n",
       "        2.68572281e-01, 2.71369806e-01, 2.74167331e-01, 2.76964857e-01,\n",
       "        2.79762382e-01]),\n",
       " <BarContainer object of 100 artists>)"
      ]
     },
     "execution_count": 79,
     "metadata": {},
     "output_type": "execute_result"
    },
    {
     "data": {
      "image/png": "[encoded data removed]",
      "text/plain": [
       "<Figure size 432x288 with 1 Axes>"
      ]
     },
     "metadata": {
      "needs_background": "light"
     },
     "output_type": "display_data"
    }
   ],
   "source": [
    "M=10000\n",
    "t=np.zeros((M,1))\n",
    "for i in range(M):\n",
    "    t[i]=singel(mu,sigma,T,Lambda)\n",
    "plt.hist(t,bins=100)"
   ]
  },
  {
   "cell_type": "code",
   "execution_count": 80,
   "metadata": {},
   "outputs": [],
   "source": [
    "mu=(1/12)\n",
    "sigma=(1/80)\n",
    "T=8\n",
    "Lambda=(1/12)"
   ]
  },
  {
   "cell_type": "code",
   "execution_count": 81,
   "metadata": {},
   "outputs": [
    {
     "data": {
      "text/plain": [
       "(array([764., 818., 766., 801., 753., 751., 777., 796., 746., 717., 650.,\n",
       "        505., 405., 245., 124.,  58.,  31.,  31.,  14.,  20.,  17.,  15.,\n",
       "         18.,  19.,  18.,   7.,  11.,   7.,   7.,  13.,   9.,   5.,   3.,\n",
       "          8.,   5.,   3.,   6.,   8.,   4.,   2.,   2.,   1.,   2.,   4.,\n",
       "          3.,   6.,   1.,   2.,   3.,   1.,   2.,   1.,   1.,   0.,   1.,\n",
       "          1.,   3.,   0.,   1.,   0.,   0.,   1.,   0.,   1.,   0.,   0.,\n",
       "          0.,   0.,   0.,   0.,   1.,   0.,   0.,   0.,   1.,   1.,   1.,\n",
       "          0.,   0.,   0.,   1.,   0.,   0.,   0.,   0.,   0.,   0.,   0.,\n",
       "          0.,   0.,   0.,   0.,   0.,   0.,   0.,   0.,   0.,   0.,   0.,\n",
       "          1.]),\n",
       " array([2.36542573e-06, 6.73286216e-03, 1.34633589e-02, 2.01938556e-02,\n",
       "        2.69243524e-02, 3.36548491e-02, 4.03853458e-02, 4.71158426e-02,\n",
       "        5.38463393e-02, 6.05768360e-02, 6.73073328e-02, 7.40378295e-02,\n",
       "        8.07683262e-02, 8.74988230e-02, 9.42293197e-02, 1.00959816e-01,\n",
       "        1.07690313e-01, 1.14420810e-01, 1.21151307e-01, 1.27881803e-01,\n",
       "        1.34612300e-01, 1.41342797e-01, 1.48073294e-01, 1.54803790e-01,\n",
       "        1.61534287e-01, 1.68264784e-01, 1.74995280e-01, 1.81725777e-01,\n",
       "        1.88456274e-01, 1.95186771e-01, 2.01917267e-01, 2.08647764e-01,\n",
       "        2.15378261e-01, 2.22108758e-01, 2.28839254e-01, 2.35569751e-01,\n",
       "        2.42300248e-01, 2.49030745e-01, 2.55761241e-01, 2.62491738e-01,\n",
       "        2.69222235e-01, 2.75952731e-01, 2.82683228e-01, 2.89413725e-01,\n",
       "        2.96144222e-01, 3.02874718e-01, 3.09605215e-01, 3.16335712e-01,\n",
       "        3.23066209e-01, 3.29796705e-01, 3.36527202e-01, 3.43257699e-01,\n",
       "        3.49988196e-01, 3.56718692e-01, 3.63449189e-01, 3.70179686e-01,\n",
       "        3.76910182e-01, 3.83640679e-01, 3.90371176e-01, 3.97101673e-01,\n",
       "        4.03832169e-01, 4.10562666e-01, 4.17293163e-01, 4.24023660e-01,\n",
       "        4.30754156e-01, 4.37484653e-01, 4.44215150e-01, 4.50945647e-01,\n",
       "        4.57676143e-01, 4.64406640e-01, 4.71137137e-01, 4.77867633e-01,\n",
       "        4.84598130e-01, 4.91328627e-01, 4.98059124e-01, 5.04789620e-01,\n",
       "        5.11520117e-01, 5.18250614e-01, 5.24981111e-01, 5.31711607e-01,\n",
       "        5.38442104e-01, 5.45172601e-01, 5.51903098e-01, 5.58633594e-01,\n",
       "        5.65364091e-01, 5.72094588e-01, 5.78825084e-01, 5.85555581e-01,\n",
       "        5.92286078e-01, 5.99016575e-01, 6.05747071e-01, 6.12477568e-01,\n",
       "        6.19208065e-01, 6.25938562e-01, 6.32669058e-01, 6.39399555e-01,\n",
       "        6.46130052e-01, 6.52860549e-01, 6.59591045e-01, 6.66321542e-01,\n",
       "        6.73052039e-01]),\n",
       " <BarContainer object of 100 artists>)"
      ]
     },
     "execution_count": 81,
     "metadata": {},
     "output_type": "execute_result"
    },
    {
     "data": {
      "image/png": "[encoded data removed]",
      "text/plain": [
       "<Figure size 432x288 with 1 Axes>"
      ]
     },
     "metadata": {
      "needs_background": "light"
     },
     "output_type": "display_data"
    }
   ],
   "source": [
    "M=10000\n",
    "t=np.zeros((M,1))\n",
    "for i in range(M):\n",
    "    t[i]=singel(mu,sigma,T,Lambda)\n",
    "plt.hist(t,bins=100)"
   ]
  },
  {
   "cell_type": "markdown",
   "metadata": {},
   "source": [
    "### Severs in series and parallel"
   ]
  },
  {
   "cell_type": "markdown",
   "metadata": {},
   "source": [
    "is seris is just lite two server that every exit of one is arrivall to the others"
   ]
  },
  {
   "cell_type": "markdown",
   "metadata": {},
   "source": [
    "parallel has the challenge"
   ]
  },
  {
   "cell_type": "code",
   "execution_count": 82,
   "metadata": {},
   "outputs": [],
   "source": [
    "import numpy as np\n",
    "import matplotlib.pyplot as plt"
   ]
  },
  {
   "cell_type": "code",
   "execution_count": 83,
   "metadata": {},
   "outputs": [],
   "source": [
    "Lambda=(1/12)\n",
    "Lambda_2=(1/20)"
   ]
  },
  {
   "cell_type": "code",
   "execution_count": 84,
   "metadata": {},
   "outputs": [],
   "source": [
    "def singel_server(arrival):\n",
    "    arrival+=np.random.exponential(Lambda)\n",
    "    return arrival"
   ]
  },
  {
   "cell_type": "code",
   "execution_count": 85,
   "metadata": {},
   "outputs": [],
   "source": [
    "def parallel_server(M,N):\n",
    "    dic=[]\n",
    "    time=np.zeros((N))\n",
    "    t=0\n",
    "    for i in range(M):\n",
    "        t+=np.random.exponential(Lambda_2)\n",
    "        a=time.argmin()\n",
    "        if(t<time[a]):\n",
    "            t=time[a]\n",
    "        time[a]=singel_server(time[a])\n",
    "        dic.append([a,time[a]])\n",
    "    return dic"
   ]
  },
  {
   "cell_type": "code",
   "execution_count": 86,
   "metadata": {},
   "outputs": [],
   "source": [
    "A=np.array(parallel_server(2000,3))"
   ]
  },
  {
   "cell_type": "code",
   "execution_count": 87,
   "metadata": {},
   "outputs": [
    {
     "data": {
      "text/plain": [
       "(array([ 8.,  5.,  1.,  6.,  2.,  5.,  9.,  4.,  5.,  5.,  7.,  1.,  4.,\n",
       "         9.,  5.,  3.,  6.,  5., 10.,  5.,  9.,  7.,  6.,  9.,  5.,  7.,\n",
       "         4.,  6.,  8.,  8.,  7.,  6.,  6.,  4.,  4., 10.,  6.,  5.,  4.,\n",
       "         5.,  6.,  3.,  7.,  8.,  9.,  2.,  9., 11.,  8.,  7., 11.,  4.,\n",
       "         4.,  9.,  6.,  3.,  2.,  5.,  9.,  0.,  5.,  3.,  6.,  8.,  6.,\n",
       "         1.,  5.,  5.,  6.,  9.,  5.,  9.,  7.,  7.,  4.,  7., 10.,  8.,\n",
       "         1., 13.,  8., 10.,  5.,  8.,  4.,  8.,  6.,  7.,  3.,  9.,  8.,\n",
       "         5.,  7., 11.,  5.,  7.,  4.,  7., 11., 12.]),\n",
       " array([ 0.19512902,  0.75688977,  1.31865051,  1.88041126,  2.442172  ,\n",
       "         3.00393275,  3.56569349,  4.12745424,  4.68921498,  5.25097573,\n",
       "         5.81273647,  6.37449722,  6.93625796,  7.49801871,  8.05977945,\n",
       "         8.6215402 ,  9.18330094,  9.74506169, 10.30682243, 10.86858318,\n",
       "        11.43034392, 11.99210467, 12.55386541, 13.11562616, 13.6773869 ,\n",
       "        14.23914765, 14.8009084 , 15.36266914, 15.92442989, 16.48619063,\n",
       "        17.04795138, 17.60971212, 18.17147287, 18.73323361, 19.29499436,\n",
       "        19.8567551 , 20.41851585, 20.98027659, 21.54203734, 22.10379808,\n",
       "        22.66555883, 23.22731957, 23.78908032, 24.35084106, 24.91260181,\n",
       "        25.47436255, 26.0361233 , 26.59788404, 27.15964479, 27.72140553,\n",
       "        28.28316628, 28.84492702, 29.40668777, 29.96844851, 30.53020926,\n",
       "        31.09197   , 31.65373075, 32.21549149, 32.77725224, 33.33901298,\n",
       "        33.90077373, 34.46253447, 35.02429522, 35.58605597, 36.14781671,\n",
       "        36.70957746, 37.2713382 , 37.83309895, 38.39485969, 38.95662044,\n",
       "        39.51838118, 40.08014193, 40.64190267, 41.20366342, 41.76542416,\n",
       "        42.32718491, 42.88894565, 43.4507064 , 44.01246714, 44.57422789,\n",
       "        45.13598863, 45.69774938, 46.25951012, 46.82127087, 47.38303161,\n",
       "        47.94479236, 48.5065531 , 49.06831385, 49.63007459, 50.19183534,\n",
       "        50.75359608, 51.31535683, 51.87711757, 52.43887832, 53.00063906,\n",
       "        53.56239981, 54.12416055, 54.6859213 , 55.24768204, 55.80944279,\n",
       "        56.37120353]),\n",
       " <BarContainer object of 100 artists>)"
      ]
     },
     "execution_count": 87,
     "metadata": {},
     "output_type": "execute_result"
    },
    {
     "data": {
      "image/png": "[encoded data removed]",
      "text/plain": [
       "<Figure size 432x288 with 1 Axes>"
      ]
     },
     "metadata": {
      "needs_background": "light"
     },
     "output_type": "display_data"
    }
   ],
   "source": [
    "plt.hist(A[A[:,0]==0,1],bins=100)\n",
    "plt.hist(A[A[:,0]==1,1],bins=100)\n",
    "plt.hist(A[A[:,0]==2,1],bins=100)"
   ]
  },
  {
   "cell_type": "markdown",
   "metadata": {},
   "source": [
    "### Inventory Model"
   ]
  },
  {
   "cell_type": "code",
   "execution_count": 88,
   "metadata": {},
   "outputs": [],
   "source": [
    "import seaborn as sb"
   ]
  },
  {
   "cell_type": "code",
   "execution_count": 89,
   "metadata": {},
   "outputs": [],
   "source": [
    "Lambda=3\n",
    "g=5\n",
    "C=200\n",
    "c=2000\n",
    "T=5\n",
    "f=300\n",
    "k=10\n",
    "l=1"
   ]
  },
  {
   "cell_type": "code",
   "execution_count": 90,
   "metadata": {},
   "outputs": [],
   "source": [
    "def costumer(t):\n",
    "    t+=np.random.exponential(Lambda)\n",
    "    buy=np.random.randint(g)+1\n",
    "    return buy,t"
   ]
  },
  {
   "cell_type": "code",
   "execution_count": 91,
   "metadata": {},
   "outputs": [],
   "source": [
    "def delivery(S_,x,t):\n",
    "    t+=l\n",
    "    return S_-x,t"
   ]
  },
  {
   "cell_type": "code",
   "execution_count": 92,
   "metadata": {},
   "outputs": [],
   "source": [
    "def delivery_price(ware):\n",
    "    return ware*C+c"
   ]
  },
  {
   "cell_type": "code",
   "execution_count": 93,
   "metadata": {},
   "outputs": [],
   "source": [
    "def sell_price(sell):\n",
    "    return sell*f"
   ]
  },
  {
   "cell_type": "code",
   "execution_count": 94,
   "metadata": {},
   "outputs": [],
   "source": [
    "def refrigetator(capasity,time):\n",
    "    return capasity*time*k"
   ]
  },
  {
   "cell_type": "code",
   "execution_count": 95,
   "metadata": {},
   "outputs": [],
   "source": [
    "def inventory(S_,s):\n",
    "    t=0.0\n",
    "    capasity=S_\n",
    "    Delivery_price=0\n",
    "    Total_sell=0.0\n",
    "    deliver_time=T\n",
    "    costumer_time=0.0\n",
    "    refrigetator_price=0.0\n",
    "    buy=0\n",
    "    ware=0\n",
    "    deliver=False\n",
    "    while(t<T):\n",
    "        if(capasity<s and (not deliver)):\n",
    "            if(capasity==0):\n",
    "                capasity,t=delivery(S_,capasity,t)\n",
    "                Delivery_price+=delivery_price(capasity)\n",
    "            ware,deliver_time=delivery(S_,capasity,t)\n",
    "            deliver=True\n",
    "        if(costumer_time>deliver_time):\n",
    "            refrigetator_price+=refrigetator(capasity,deliver_time-t)\n",
    "            t=deliver_time\n",
    "            deliver=False\n",
    "            capasity+=ware\n",
    "            Delivery_price+=delivery_price(ware)\n",
    "        else:\n",
    "            refrigetator_price+=refrigetator(capasity,costumer_time-t)\n",
    "            t=costumer_time\n",
    "            sell=min(capasity,buy)\n",
    "            Total_sell+=sell_price(sell)\n",
    "            capasity-=sell\n",
    "            buy,costumer_time=costumer(costumer_time)\n",
    "    return Total_sell-Delivery_price-refrigetator_price"
   ]
  },
  {
   "cell_type": "markdown",
   "metadata": {},
   "source": [
    "### An Insurance Risk Model"
   ]
  },
  {
   "cell_type": "markdown",
   "metadata": {},
   "source": [
    "with exponentioal disterbution with parameter $$\\alpha$$ we get new costumer with exponentioal disterbution with parameter $$\\lambda$$ we should pay for costumer and with exponentioal disterbution with parameter $$\\mu$$ we lose one of our customer"
   ]
  },
  {
   "cell_type": "markdown",
   "metadata": {},
   "source": [
    "so we genetare exponential  with parameter $$\\alpha +n*\\lambda +n*\\mu $$\n",
    "and with probabaility $$\\frac{\\alpha}{\\alpha +n*\\lambda +n*\\mu}$$ we remain it as new customer\n",
    "with probability $$\\frac{n*\\lambda}{\\alpha +n*\\lambda +n*\\mu}$$ we remain it as pay\n",
    "and with probability $$\\frac{n*\\mu}{\\alpha +n*\\lambda +n*\\mu}$$ we remain it as losing a customer"
   ]
  },
  {
   "cell_type": "code",
   "execution_count": 96,
   "metadata": {},
   "outputs": [],
   "source": [
    "def model(a_0,n_0):\n",
    "    t,a,n=0,a_0,n_0\n",
    "    t_E,b=0,1\n",
    "    \n",
    "    while(t<T):\n",
    "        t_E=np.random.exponential(kapa+n*Lambda+n*mu)\n",
    "        a+=min((t_E-t)*c,(T-t)*c)\n",
    "        k=np.random.random()\n",
    "        if(k<kapa/(kapa+n*Lambda+n*mu)):\n",
    "            n+=1\n",
    "        elif(k<n*Lambda/(kapa+n*Lambda+n*mu)):\n",
    "            n-=1\n",
    "        else:\n",
    "            a-=np.random.normal(sigma,variance)\n",
    "        t+=t_E\n",
    "        if(a<0):\n",
    "            b=0\n",
    "    return b"
   ]
  },
  {
   "cell_type": "code",
   "execution_count": 97,
   "metadata": {},
   "outputs": [],
   "source": [
    "kapa=5\n",
    "Lambda=2\n",
    "mu=4\n",
    "sigma=300\n",
    "variance=40\n",
    "T=365\n",
    "c=2"
   ]
  },
  {
   "cell_type": "code",
   "execution_count": 98,
   "metadata": {},
   "outputs": [],
   "source": [
    "M=100000\n",
    "A=np.zeros((M))\n",
    "for i in range(M):\n",
    "    A[i]=model(1000,100)"
   ]
  },
  {
   "cell_type": "code",
   "execution_count": 99,
   "metadata": {},
   "outputs": [
    {
     "data": {
      "text/plain": [
       "(array([ 1115.,     0.,     0.,     0.,     0.,     0.,     0.,     0.,\n",
       "            0., 98885.]),\n",
       " array([0. , 0.1, 0.2, 0.3, 0.4, 0.5, 0.6, 0.7, 0.8, 0.9, 1. ]),\n",
       " <BarContainer object of 10 artists>)"
      ]
     },
     "execution_count": 99,
     "metadata": {},
     "output_type": "execute_result"
    },
    {
     "data": {
      "image/png": "[encoded data removed]",
      "text/plain": [
       "<Figure size 432x288 with 1 Axes>"
      ]
     },
     "metadata": {
      "needs_background": "light"
     },
     "output_type": "display_data"
    }
   ],
   "source": [
    "plt.hist(A)"
   ]
  },
  {
   "cell_type": "code",
   "execution_count": 101,
   "metadata": {},
   "outputs": [
    {
     "data": {
      "text/plain": [
       "(0.9881991840892476, 0.9895008159107525)"
      ]
     },
     "execution_count": 101,
     "metadata": {},
     "output_type": "execute_result"
    }
   ],
   "source": [
    "import statsmodels.stats.api as sms\n",
    "\n",
    "sms.DescrStatsW(A).tconfint_mean()"
   ]
  },
  {
   "cell_type": "markdown",
   "metadata": {},
   "source": [
    "### Markov Processes"
   ]
  },
  {
   "cell_type": "markdown",
   "metadata": {},
   "source": [
    "make a line with 10 number with markov rule fool with 0 and 1 we can change a 1 to 0 and we can change 0 to 1 if we don't have two side 1"
   ]
  },
  {
   "cell_type": "code",
   "execution_count": 102,
   "metadata": {},
   "outputs": [],
   "source": [
    "def game(n):\n",
    "    a=np.random.randn((10))\n",
    "    a[a>0.5]=1\n",
    "    a[a<=0.5]=0\n",
    "    for i in range(n):\n",
    "        c=np.random.randint(10)\n",
    "        if(a[c]==1):\n",
    "            a[c]=0\n",
    "        else:\n",
    "            \n",
    "            if(c!=0 and c!=9):\n",
    "                if(a[c-1]==0 and a[c+1]==0):\n",
    "                    a[c]=1\n",
    "                    \n",
    "            else:\n",
    "                if(c==0):\n",
    "                    if(a[c+1]==0):\n",
    "                        a[c]=1\n",
    "                else:\n",
    "                    if(a[c-1]==0 ):\n",
    "                        a[c]=1       \n",
    "    return a"
   ]
  },
  {
   "cell_type": "code",
   "execution_count": 103,
   "metadata": {},
   "outputs": [
    {
     "data": {
      "text/plain": [
       "array([0., 0., 1., 0., 0., 1., 0., 0., 0., 0.])"
      ]
     },
     "execution_count": 103,
     "metadata": {},
     "output_type": "execute_result"
    }
   ],
   "source": [
    "game(10)"
   ]
  },
  {
   "cell_type": "code",
   "execution_count": 104,
   "metadata": {},
   "outputs": [],
   "source": [
    "final=np.zeros((10))\n",
    "for i in range(10000):\n",
    "    final+=game(1000)\n",
    "final/=10000"
   ]
  },
  {
   "cell_type": "code",
   "execution_count": 105,
   "metadata": {},
   "outputs": [
    {
     "data": {
      "text/plain": [
       "<BarContainer object of 10 artists>"
      ]
     },
     "execution_count": 105,
     "metadata": {},
     "output_type": "execute_result"
    },
    {
     "data": {
      "image/png": "[encoded data removed]",
      "text/plain": [
       "<Figure size 432x288 with 1 Axes>"
      ]
     },
     "metadata": {
      "needs_background": "light"
     },
     "output_type": "display_data"
    }
   ],
   "source": [
    "plt.bar([i for i in range(10)],final)"
   ]
  },
  {
   "cell_type": "markdown",
   "metadata": {},
   "source": [
    "make random permutation of 1 to n with condition that $$\\sum i*a_{i}>T$$"
   ]
  },
  {
   "cell_type": "code",
   "execution_count": 106,
   "metadata": {},
   "outputs": [],
   "source": [
    "def permutaion(n):\n",
    "    a=np.zeros((n))\n",
    "    for i in range(n):\n",
    "        b=int(np.random.randint(i+1))\n",
    "        a[i]=a[b]\n",
    "        a[b]=i+1\n",
    "    return a"
   ]
  },
  {
   "cell_type": "code",
   "execution_count": 107,
   "metadata": {},
   "outputs": [
    {
     "data": {
      "text/plain": [
       "array([ 3.,  6.,  4.,  7.,  9.,  8., 10.,  1.,  2.,  5.])"
      ]
     },
     "execution_count": 107,
     "metadata": {},
     "output_type": "execute_result"
    }
   ],
   "source": [
    "permutaion(10)"
   ]
  },
  {
   "cell_type": "code",
   "execution_count": 108,
   "metadata": {},
   "outputs": [],
   "source": [
    "def markove_permutation(n,T):\n",
    "    perm=permutaion(n)\n",
    "    score=np.array([i+1 for i in range(n)])\n",
    "    while((score*perm).sum() <T):\n",
    "        for i in range(1000):\n",
    "            a=np.random.randint(n)\n",
    "            b=np.random.randint(n)\n",
    "            #if(a*perm[a]+b*perm[b]<a*perm[b]+b*perm[a]):\n",
    "            c=perm[a]\n",
    "            perm[a]=perm[b]\n",
    "            perm[b]=c\n",
    "    return perm"
   ]
  },
  {
   "cell_type": "code",
   "execution_count": 109,
   "metadata": {},
   "outputs": [],
   "source": [
    "score=np.array([i+1 for i in range(10)])\n",
    "S=np.zeros((1000))\n",
    "T=np.zeros((10))\n",
    "for i in range(1000):\n",
    "    x=markove_permutation(10,192)\n",
    "    S[i]=(x*score).sum()\n",
    "    T+=x\n",
    "T/=1000"
   ]
  },
  {
   "cell_type": "code",
   "execution_count": 110,
   "metadata": {},
   "outputs": [
    {
     "data": {
      "text/plain": [
       "(array([  7.,  17.,  28.,  38.,  43.,  66.,  68., 107.,  83.,  82., 107.,\n",
       "         76.,  77.,  55.,  54.,  46.,  21.,  10.,   7.,   8.]),\n",
       " array([238., 245., 252., 259., 266., 273., 280., 287., 294., 301., 308.,\n",
       "        315., 322., 329., 336., 343., 350., 357., 364., 371., 378.]),\n",
       " <BarContainer object of 20 artists>)"
      ]
     },
     "execution_count": 110,
     "metadata": {},
     "output_type": "execute_result"
    },
    {
     "data": {
      "image/png": "[encoded data removed]",
      "text/plain": [
       "<Figure size 432x288 with 1 Axes>"
      ]
     },
     "metadata": {
      "needs_background": "light"
     },
     "output_type": "display_data"
    }
   ],
   "source": [
    "plt.hist(S,bins=20)"
   ]
  },
  {
   "cell_type": "code",
   "execution_count": 111,
   "metadata": {},
   "outputs": [
    {
     "data": {
      "text/plain": [
       "<BarContainer object of 10 artists>"
      ]
     },
     "execution_count": 111,
     "metadata": {},
     "output_type": "execute_result"
    },
    {
     "data": {
      "image/png": "[encoded data removed]",
      "text/plain": [
       "<Figure size 432x288 with 1 Axes>"
      ]
     },
     "metadata": {
      "needs_background": "light"
     },
     "output_type": "display_data"
    }
   ],
   "source": [
    "plt.bar([i for i in range(10)],T)"
   ]
  },
  {
   "cell_type": "markdown",
   "metadata": {},
   "source": [
    "chose a permutaion with prabality with realate to sum(ai*i)"
   ]
  },
  {
   "cell_type": "code",
   "execution_count": 112,
   "metadata": {},
   "outputs": [],
   "source": [
    "def Hastings_Metropolis(n):\n",
    "    perm=permutaion(n)\n",
    "    score=np.array([i+1 for i in range(n)])\n",
    "    for i in range(1000):\n",
    "        a=np.random.randint(n)\n",
    "        b=np.random.randint(n)\n",
    "        c=np.random.random()\n",
    "        k=(perm*score).sum()\n",
    "        l=k-(a*perm[a]+b*perm[b]-a*perm[b]-b*perm[a])\n",
    "        if(c>k/l):\n",
    "            c=perm[a]\n",
    "            perm[a]=perm[b]\n",
    "            perm[b]=c\n",
    "    return perm"
   ]
  },
  {
   "cell_type": "code",
   "execution_count": 113,
   "metadata": {},
   "outputs": [],
   "source": [
    "score=np.array([i+1 for i in range(10)])\n",
    "S=np.zeros((5000))\n",
    "T=np.zeros((10))\n",
    "for i in range(5000):\n",
    "    x=Hastings_Metropolis(10)\n",
    "    S[i]=(x*score).sum()\n",
    "    T+=x\n",
    "T/=5000"
   ]
  },
  {
   "cell_type": "code",
   "execution_count": 114,
   "metadata": {},
   "outputs": [
    {
     "data": {
      "text/plain": [
       "(array([  1.,   0.,   0.,   0.,   2.,   0.,   0.,   0.,   5.,   0.,   4.,\n",
       "          0.,   3.,   0.,   4.,   0.,   4.,   0.,   6.,   0.,   6.,   0.,\n",
       "          7.,   0.,  11.,   0.,  16.,   0.,  18.,   0.,  30.,   0.,  16.,\n",
       "          0.,  27.,   0.,  35.,   0.,  34.,   0.,  53.,   0.,  55.,   0.,\n",
       "         66.,   0.,  68.,   0.,  95.,   0.,   0., 104.,   0., 125.,   0.,\n",
       "        127.,   0., 127.,   0., 166.,   0., 187.,   0., 198.,   0., 194.,\n",
       "          0., 245.,   0., 246.,   0., 271.,   0., 259.,   0., 270.,   0.,\n",
       "        281.,   0., 285.,   0., 268.,   0., 224.,   0., 208.,   0., 170.,\n",
       "          0., 157.,   0., 121.,   0., 101.,   0.,  56.,   0.,  33.,   0.,\n",
       "         11.]),\n",
       " array([335.  , 335.49, 335.98, 336.47, 336.96, 337.45, 337.94, 338.43,\n",
       "        338.92, 339.41, 339.9 , 340.39, 340.88, 341.37, 341.86, 342.35,\n",
       "        342.84, 343.33, 343.82, 344.31, 344.8 , 345.29, 345.78, 346.27,\n",
       "        346.76, 347.25, 347.74, 348.23, 348.72, 349.21, 349.7 , 350.19,\n",
       "        350.68, 351.17, 351.66, 352.15, 352.64, 353.13, 353.62, 354.11,\n",
       "        354.6 , 355.09, 355.58, 356.07, 356.56, 357.05, 357.54, 358.03,\n",
       "        358.52, 359.01, 359.5 , 359.99, 360.48, 360.97, 361.46, 361.95,\n",
       "        362.44, 362.93, 363.42, 363.91, 364.4 , 364.89, 365.38, 365.87,\n",
       "        366.36, 366.85, 367.34, 367.83, 368.32, 368.81, 369.3 , 369.79,\n",
       "        370.28, 370.77, 371.26, 371.75, 372.24, 372.73, 373.22, 373.71,\n",
       "        374.2 , 374.69, 375.18, 375.67, 376.16, 376.65, 377.14, 377.63,\n",
       "        378.12, 378.61, 379.1 , 379.59, 380.08, 380.57, 381.06, 381.55,\n",
       "        382.04, 382.53, 383.02, 383.51, 384.  ]),\n",
       " <BarContainer object of 100 artists>)"
      ]
     },
     "execution_count": 114,
     "metadata": {},
     "output_type": "execute_result"
    },
    {
     "data": {
      "image/png": "[encoded data removed]",
      "text/plain": [
       "<Figure size 432x288 with 1 Axes>"
      ]
     },
     "metadata": {
      "needs_background": "light"
     },
     "output_type": "display_data"
    }
   ],
   "source": [
    "plt.hist(S,bins=100)"
   ]
  },
  {
   "cell_type": "code",
   "execution_count": 115,
   "metadata": {},
   "outputs": [
    {
     "data": {
      "text/plain": [
       "<BarContainer object of 10 artists>"
      ]
     },
     "execution_count": 115,
     "metadata": {},
     "output_type": "execute_result"
    },
    {
     "data": {
      "image/png": "[encoded data removed]",
      "text/plain": [
       "<Figure size 432x288 with 1 Axes>"
      ]
     },
     "metadata": {
      "needs_background": "light"
     },
     "output_type": "display_data"
    }
   ],
   "source": [
    "plt.bar([i for i in range(10)],T)"
   ]
  },
  {
   "cell_type": "markdown",
   "metadata": {},
   "source": [
    "## Variance Reduction"
   ]
  },
  {
   "cell_type": "markdown",
   "metadata": {},
   "source": [
    "### Anthetic Vairiables"
   ]
  },
  {
   "cell_type": "code",
   "execution_count": 132,
   "metadata": {},
   "outputs": [],
   "source": [
    "n=100"
   ]
  },
  {
   "cell_type": "code",
   "execution_count": 160,
   "metadata": {},
   "outputs": [],
   "source": [
    "A=np.array([np.random.uniform() for i in range(n)])\n",
    "B=1-A\n",
    "\n",
    "A=np.exp(A)\n",
    "B=np.exp(B)\n",
    "\n",
    "def conv(A,B):\n",
    "     return (A*B).mean()-A.mean()*B.mean()"
   ]
  },
  {
   "cell_type": "code",
   "execution_count": 165,
   "metadata": {},
   "outputs": [
    {
     "data": {
      "text/plain": [
       "0.003533719920687517"
      ]
     },
     "execution_count": 165,
     "metadata": {},
     "output_type": "execute_result"
    }
   ],
   "source": [
    "(np.var(A)+np.var(B)+2*conv(A,B))/4"
   ]
  },
  {
   "cell_type": "code",
   "execution_count": 166,
   "metadata": {},
   "outputs": [
    {
     "data": {
      "text/plain": [
       "0.21455329930667397"
      ]
     },
     "execution_count": 166,
     "metadata": {},
     "output_type": "execute_result"
    }
   ],
   "source": [
    "np.var(A)"
   ]
  },
  {
   "cell_type": "markdown",
   "metadata": {},
   "source": [
    "### Control Variate "
   ]
  },
  {
   "cell_type": "code",
   "execution_count": 167,
   "metadata": {},
   "outputs": [],
   "source": [
    "X=np.array([np.random.uniform() for i in range(n)])\n",
    "Y=np.exp(X)\n",
    "\n",
    "C=conv(X,Y)/(-np.var(X))"
   ]
  },
  {
   "cell_type": "code",
   "execution_count": 168,
   "metadata": {},
   "outputs": [
    {
     "data": {
      "text/plain": [
       "0.0036372549959119843"
      ]
     },
     "execution_count": 168,
     "metadata": {},
     "output_type": "execute_result"
    }
   ],
   "source": [
    "np.var(Y+C*(X-1/2))\n"
   ]
  },
  {
   "cell_type": "code",
   "execution_count": 169,
   "metadata": {},
   "outputs": [
    {
     "data": {
      "text/plain": [
       "0.24568491487821528"
      ]
     },
     "execution_count": 169,
     "metadata": {},
     "output_type": "execute_result"
    }
   ],
   "source": [
    "np.var(Y)"
   ]
  },
  {
   "cell_type": "markdown",
   "metadata": {},
   "source": [
    "### Conditioning"
   ]
  },
  {
   "cell_type": "code",
   "execution_count": 170,
   "metadata": {},
   "outputs": [],
   "source": [
    "X=np.array([2*np.random.uniform()-1 for i in range(n)])\n",
    "Y=np.array([2*np.random.uniform()-1 for i in range(n)])"
   ]
  },
  {
   "cell_type": "code",
   "execution_count": 173,
   "metadata": {},
   "outputs": [],
   "source": [
    "Z=X*X+Y*Y\n",
    "Z[Z<=1]=1\n",
    "Z[Z>1]=0"
   ]
  },
  {
   "cell_type": "code",
   "execution_count": 174,
   "metadata": {},
   "outputs": [
    {
     "data": {
      "text/plain": [
       "0.1771"
      ]
     },
     "execution_count": 174,
     "metadata": {},
     "output_type": "execute_result"
    }
   ],
   "source": [
    "Z.var()"
   ]
  },
  {
   "cell_type": "code",
   "execution_count": 175,
   "metadata": {},
   "outputs": [
    {
     "data": {
      "text/plain": [
       "0.03521378169510789"
      ]
     },
     "execution_count": 175,
     "metadata": {},
     "output_type": "execute_result"
    }
   ],
   "source": [
    "T=np.sqrt(1-X*X)\n",
    "T.var()"
   ]
  },
  {
   "cell_type": "markdown",
   "metadata": {},
   "source": [
    "### Gibbs Sampler "
   ]
  },
  {
   "cell_type": "markdown",
   "metadata": {},
   "source": [
    "generateing a random sample than  change one of the samples"
   ]
  },
  {
   "cell_type": "markdown",
   "metadata": {},
   "source": [
    "genetate a x1 to xn with condition sum xi>c(xi exp with lambdai )"
   ]
  },
  {
   "cell_type": "code",
   "execution_count": 116,
   "metadata": {},
   "outputs": [],
   "source": [
    "import numpy as np\n",
    "import matplotlib.pyplot as plt"
   ]
  },
  {
   "cell_type": "code",
   "execution_count": 117,
   "metadata": {},
   "outputs": [],
   "source": [
    "n=100\n",
    "c=200\n",
    "lmabda=np.abs(np.random.rand((n)))\n",
    "def Gibbs_sampel():\n",
    "    X=np.array([np.exp(lmabda[i]) for i in range(n)])\n",
    "    a=np.random.randint(n)\n",
    "    t=c-X.sum()+X[a]\n",
    "    X[a]=t+np.exp(lmabda[a])\n",
    "    return X"
   ]
  },
  {
   "cell_type": "code",
   "execution_count": 118,
   "metadata": {},
   "outputs": [],
   "source": [
    "final_x=np.zeros((n))\n",
    "for i in range(100):\n",
    "    final_x+=Gibbs_sampel()\n",
    "final_x/=100"
   ]
  },
  {
   "cell_type": "code",
   "execution_count": 119,
   "metadata": {},
   "outputs": [
    {
     "data": {
      "text/plain": [
       "<BarContainer object of 100 artists>"
      ]
     },
     "execution_count": 119,
     "metadata": {},
     "output_type": "execute_result"
    },
    {
     "data": {
      "image/png": "[encoded data removed]",
      "text/plain": [
       "<Figure size 432x288 with 1 Axes>"
      ]
     },
     "metadata": {
      "needs_background": "light"
     },
     "output_type": "display_data"
    }
   ],
   "source": [
    "plt.bar([i for i in range(n)],final_x)"
   ]
  },
  {
   "cell_type": "code",
   "execution_count": 120,
   "metadata": {},
   "outputs": [
    {
     "data": {
      "text/plain": [
       "20.085536923187668"
      ]
     },
     "execution_count": 120,
     "metadata": {},
     "output_type": "execute_result"
    }
   ],
   "source": [
    "a=3\n",
    "np.exp(3)"
   ]
  }
 ],
 "metadata": {
  "kernelspec": {
   "display_name": "Python 3",
   "language": "python",
   "name": "python3"
  },
  "language_info": {
   "codemirror_mode": {
    "name": "ipython",
    "version": 3
   },
   "file_extension": ".py",
   "mimetype": "text/x-python",
   "name": "python",
   "nbconvert_exporter": "python",
   "pygments_lexer": "ipython3",
   "version": "3.8.2"
  }
 },
 "nbformat": 4,
 "nbformat_minor": 2
}
